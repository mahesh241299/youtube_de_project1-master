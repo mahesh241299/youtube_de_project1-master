{
 "cells": [
  {
   "cell_type": "code",
   "execution_count": 1,
   "metadata": {},
   "outputs": [
    {
     "name": "stdout",
     "output_type": "stream",
     "text": [
      "True\n",
      "False\n"
     ]
    }
   ],
   "source": [
    "def palindrome(s):\n",
    "    s = s.lower()\n",
    "\n",
    "    start = 0\n",
    "    end = len(s) - 1\n",
    "\n",
    "    while(start <= end):\n",
    "        if s[start] == s[end]:\n",
    "            start += 1\n",
    "            end -= 1\n",
    "        else:\n",
    "            return False\n",
    "    return True\n",
    "\n",
    "s = \"nitin\"\n",
    "a = \"mahesh\"\n",
    "print(palindrome(s))\n",
    "print(palindrome(a))\n"
   ]
  },
  {
   "cell_type": "code",
   "execution_count": 9,
   "metadata": {},
   "outputs": [
    {
     "name": "stdout",
     "output_type": "stream",
     "text": [
      "112233aa!!\n"
     ]
    }
   ],
   "source": [
    "ag = \"123a!\"\n",
    "\n",
    "def create_deplicate(s):\n",
    "    new = \"\"\n",
    "\n",
    "    for i in s:\n",
    "        new += str(i)*2\n",
    "        3\n",
    "\n",
    "    return new\n",
    "\n",
    "print(create_deplicate(ag))"
   ]
  },
  {
   "cell_type": "code",
   "execution_count": 19,
   "metadata": {},
   "outputs": [
    {
     "name": "stdout",
     "output_type": "stream",
     "text": [
      "not prime\n"
     ]
    }
   ],
   "source": [
    "def prime_check(num):\n",
    "    if num <= 1:\n",
    "        return 'not Prime'\n",
    "    \n",
    "    for i in range(2, num//2 +1):\n",
    "        if num % i == 0:\n",
    "            return 'not prime'\n",
    "       \n",
    "    return 'Prime'\n",
    "\n",
    "print(prime_check(4))"
   ]
  },
  {
   "cell_type": "code",
   "execution_count": 1,
   "metadata": {},
   "outputs": [
    {
     "name": "stdout",
     "output_type": "stream",
     "text": [
      "[0, 1]\n"
     ]
    }
   ],
   "source": [
    "abc = [3, 56, 7, 2, 7, 4, 7, 8]\n",
    "tar = 59\n",
    "def two_sum(num, target):\n",
    "    d = {}\n",
    "\n",
    "    for i in range(len(num)):\n",
    "        com = target - num[i]\n",
    "\n",
    "        if com in d:\n",
    "            return [d[com], i]\n",
    "        \n",
    "        d[num[i]] = i\n",
    "    \n",
    "    return none\n",
    "\n",
    "print(two_sum(abc, tar))\n"
   ]
  },
  {
   "cell_type": "code",
   "execution_count": 2,
   "metadata": {},
   "outputs": [
    {
     "ename": "KeyError",
     "evalue": "3",
     "output_type": "error",
     "traceback": [
      "\u001b[1;31m---------------------------------------------------------------------------\u001b[0m",
      "\u001b[1;31mKeyError\u001b[0m                                  Traceback (most recent call last)",
      "\u001b[1;32m<ipython-input-2-a7b2b3f2265e>\u001b[0m in \u001b[0;36m<module>\u001b[1;34m\u001b[0m\n\u001b[0;32m     15\u001b[0m         \u001b[1;32mreturn\u001b[0m \u001b[1;32mNone\u001b[0m\u001b[1;33m\u001b[0m\u001b[1;33m\u001b[0m\u001b[0m\n\u001b[0;32m     16\u001b[0m \u001b[1;33m\u001b[0m\u001b[0m\n\u001b[1;32m---> 17\u001b[1;33m \u001b[0mprint\u001b[0m\u001b[1;33m(\u001b[0m\u001b[0mtwo_sum\u001b[0m\u001b[1;33m(\u001b[0m\u001b[0mabc\u001b[0m\u001b[1;33m,\u001b[0m \u001b[1;36m9\u001b[0m\u001b[1;33m)\u001b[0m\u001b[1;33m)\u001b[0m\u001b[1;33m\u001b[0m\u001b[1;33m\u001b[0m\u001b[0m\n\u001b[0m",
      "\u001b[1;32m<ipython-input-2-a7b2b3f2265e>\u001b[0m in \u001b[0;36mtwo_sum\u001b[1;34m(abc, target)\u001b[0m\n\u001b[0;32m     11\u001b[0m             \u001b[1;32mreturn\u001b[0m \u001b[1;33m[\u001b[0m\u001b[0md\u001b[0m\u001b[1;33m[\u001b[0m\u001b[0mcom\u001b[0m\u001b[1;33m]\u001b[0m\u001b[1;33m,\u001b[0m \u001b[0mi\u001b[0m\u001b[1;33m]\u001b[0m\u001b[1;33m\u001b[0m\u001b[1;33m\u001b[0m\u001b[0m\n\u001b[0;32m     12\u001b[0m \u001b[1;33m\u001b[0m\u001b[0m\n\u001b[1;32m---> 13\u001b[1;33m         \u001b[0md\u001b[0m\u001b[1;33m[\u001b[0m\u001b[0mabc\u001b[0m\u001b[1;33m[\u001b[0m\u001b[0mi\u001b[0m\u001b[1;33m]\u001b[0m\u001b[1;33m]\u001b[0m \u001b[1;33m-\u001b[0m \u001b[0mi\u001b[0m\u001b[1;33m\u001b[0m\u001b[1;33m\u001b[0m\u001b[0m\n\u001b[0m\u001b[0;32m     14\u001b[0m \u001b[1;33m\u001b[0m\u001b[0m\n\u001b[0;32m     15\u001b[0m         \u001b[1;32mreturn\u001b[0m \u001b[1;32mNone\u001b[0m\u001b[1;33m\u001b[0m\u001b[1;33m\u001b[0m\u001b[0m\n",
      "\u001b[1;31mKeyError\u001b[0m: 3"
     ]
    }
   ],
   "source": [
    "abc = [3, 56, 7, 2, 7, 4, 7, 8]\n",
    "tar = 59\n",
    "\n",
    "def two_sum(abc, target):\n",
    "    d ={}\n",
    "\n",
    "    for i in range(len(abc)):\n",
    "        com = target - abc[i]\n",
    "\n",
    "        if com in d:\n",
    "            return [d[com], i]\n",
    "        \n",
    "        d[abc[i]] - i\n",
    "\n",
    "        return None\n",
    "\n",
    "print(two_sum(abc, 9))"
   ]
  },
  {
   "cell_type": "code",
   "execution_count": 3,
   "metadata": {},
   "outputs": [
    {
     "name": "stdout",
     "output_type": "stream",
     "text": [
      "[3, 56]\n"
     ]
    }
   ],
   "source": [
    "abc = [3, 56, 7, 2, 7, 4, 7, 8]\n",
    "tar = 59\n",
    "\n",
    "def two_sum(num, target):\n",
    "    d = {}\n",
    "\n",
    "    for i in range(len(num)):\n",
    "        com = target - num[i]\n",
    "\n",
    "        if com in d:\n",
    "            return [com, abc[i]]\n",
    "        \n",
    "        d[num[i]] = i\n",
    "    \n",
    "    return None  # Return None when no solution is found\n",
    "\n",
    "print(two_sum(abc, tar))\n"
   ]
  },
  {
   "cell_type": "code",
   "execution_count": 2,
   "metadata": {},
   "outputs": [
    {
     "name": "stdout",
     "output_type": "stream",
     "text": [
      "[2, 7]\n"
     ]
    }
   ],
   "source": [
    "def two_sum(nums, tar):\n",
    "    num_all = {}\n",
    "\n",
    "    for i, num in enumerate(nums):\n",
    "        complement = tar - num\n",
    "\n",
    "        if complement in num_all:\n",
    "            return [complement, num]\n",
    "        \n",
    "        num_all[num] = i\n",
    "\n",
    "    return []\n",
    "\n",
    "nums = [2, 7, 11, 15]\n",
    "tar = 9\n",
    "\n",
    "prime_check(two_sum(nums,))"
   ]
  },
  {
   "cell_type": "code",
   "execution_count": 5,
   "metadata": {},
   "outputs": [
    {
     "name": "stdout",
     "output_type": "stream",
     "text": [
      "['my', 'name', 'is', 'mahesh', 'raju', 'kumavat', 'my', 'name', 'is', 'mahesh', 'raju', 'kumavat', 'mahesh']\n"
     ]
    }
   ],
   "source": [
    "abc = \"My name is mahesh raju kumavat My name is mahesh raju kumavat mahesh\"\n",
    "abc = abc.lower().split(\" \")\n",
    "print(abc)"
   ]
  },
  {
   "cell_type": "code",
   "execution_count": 6,
   "metadata": {},
   "outputs": [
    {
     "name": "stdout",
     "output_type": "stream",
     "text": [
      "{'my': 2, 'name': 2, 'is': 2, 'mahesh': 3, 'raju': 2, 'kumavat': 2}\n"
     ]
    }
   ],
   "source": [
    "lst = {}\n",
    "\n",
    "for i in abc:\n",
    "    if i in lst:\n",
    "        lst[i] += 1\n",
    "    else:\n",
    "        lst[i] = 1\n",
    "\n",
    "print(lst)\n",
    "\n"
   ]
  },
  {
   "cell_type": "code",
   "execution_count": 9,
   "metadata": {},
   "outputs": [
    {
     "ename": "NameError",
     "evalue": "name 'start' is not defined",
     "output_type": "error",
     "traceback": [
      "\u001b[1;31m---------------------------------------------------------------------------\u001b[0m",
      "\u001b[1;31mNameError\u001b[0m                                 Traceback (most recent call last)",
      "\u001b[1;32m<ipython-input-9-de6238d9e10e>\u001b[0m in \u001b[0;36m<module>\u001b[1;34m\u001b[0m\n\u001b[0;32m      6\u001b[0m \u001b[0mab\u001b[0m \u001b[1;33m=\u001b[0m \u001b[0mlist\u001b[0m\u001b[1;33m(\u001b[0m\u001b[0mabcd\u001b[0m\u001b[1;33m)\u001b[0m\u001b[1;33m\u001b[0m\u001b[1;33m\u001b[0m\u001b[0m\n\u001b[0;32m      7\u001b[0m \u001b[1;33m\u001b[0m\u001b[0m\n\u001b[1;32m----> 8\u001b[1;33m \u001b[1;32mwhile\u001b[0m \u001b[0mstart\u001b[0m \u001b[1;33m<=\u001b[0m \u001b[0mend\u001b[0m\u001b[1;33m:\u001b[0m\u001b[1;33m\u001b[0m\u001b[1;33m\u001b[0m\u001b[0m\n\u001b[0m\u001b[0;32m      9\u001b[0m     \u001b[0mab\u001b[0m\u001b[1;33m[\u001b[0m\u001b[0mStart\u001b[0m\u001b[1;33m]\u001b[0m\u001b[1;33m,\u001b[0m \u001b[0mab\u001b[0m\u001b[1;33m[\u001b[0m\u001b[0mend\u001b[0m\u001b[1;33m]\u001b[0m \u001b[1;33m=\u001b[0m \u001b[0mab\u001b[0m\u001b[1;33m[\u001b[0m\u001b[0mend\u001b[0m\u001b[1;33m]\u001b[0m\u001b[1;33m,\u001b[0m \u001b[0mab\u001b[0m\u001b[1;33m[\u001b[0m\u001b[0mStart\u001b[0m\u001b[1;33m]\u001b[0m\u001b[1;33m\u001b[0m\u001b[1;33m\u001b[0m\u001b[0m\n\u001b[0;32m     10\u001b[0m     \u001b[0mStart\u001b[0m \u001b[1;33m+=\u001b[0m \u001b[1;36m1\u001b[0m\u001b[1;33m\u001b[0m\u001b[1;33m\u001b[0m\u001b[0m\n",
      "\u001b[1;31mNameError\u001b[0m: name 'start' is not defined"
     ]
    }
   ],
   "source": [
    "abcd = \"MyNameisMahesh\"\n",
    "\n",
    "Start = 0\n",
    "end = len(ab) -1\n",
    "\n",
    "ab = list(abcd)\n",
    "\n",
    "while start <= end:\n",
    "    ab[Start], ab[end] = ab[end], ab[Start]\n",
    "    Start += 1\n",
    "    end -= 1\n",
    "\n",
    "print(ab)"
   ]
  },
  {
   "cell_type": "code",
   "execution_count": 10,
   "metadata": {},
   "outputs": [
    {
     "name": "stdout",
     "output_type": "stream",
     "text": [
      "hsehaMsiemaNyM\n"
     ]
    }
   ],
   "source": [
    "ab = \"MyNameisMahesh\"\n",
    "\n",
    "start = 0\n",
    "end = len(ab) - 1\n",
    "\n",
    "# Convert string to a list (since strings are immutable)\n",
    "ab_list = list(ab)\n",
    "\n",
    "while start <= end:\n",
    "    ab_list[start], ab_list[end] = ab_list[end], ab_list[start]  # Swap\n",
    "    start += 1\n",
    "    end -= 1\n",
    "\n",
    "# Convert list back to string\n",
    "ab = \"\".join(ab_list)\n",
    "\n",
    "print(ab)  # Output: \"hsehaMsiemaNyM\"\n"
   ]
  },
  {
   "cell_type": "code",
   "execution_count": 11,
   "metadata": {},
   "outputs": [
    {
     "name": "stdout",
     "output_type": "stream",
     "text": [
      "hsehaMsiemaNyM\n"
     ]
    }
   ],
   "source": [
    "rev_str = \"\"\n",
    "\n",
    "for i in abcd:\n",
    "    rev_str = i + rev_str\n",
    "\n",
    "print(rev_str)"
   ]
  },
  {
   "cell_type": "code",
   "execution_count": 13,
   "metadata": {},
   "outputs": [
    {
     "name": "stdout",
     "output_type": "stream",
     "text": [
      "<reversed object at 0x015C3FD0>\n",
      "hsehaMsiemaNyM\n"
     ]
    }
   ],
   "source": [
    "a = reversed(abcd)\n",
    "print(a)\n",
    "print(\"\".join(a))"
   ]
  },
  {
   "cell_type": "code",
   "execution_count": null,
   "metadata": {},
   "outputs": [],
   "source": []
  }
 ],
 "metadata": {
  "kernelspec": {
   "display_name": "venv",
   "language": "python",
   "name": "python3"
  },
  "language_info": {
   "codemirror_mode": {
    "name": "ipython",
    "version": 3
   },
   "file_extension": ".py",
   "mimetype": "text/x-python",
   "name": "python",
   "nbconvert_exporter": "python",
   "pygments_lexer": "ipython3",
   "version": "3.6.8"
  }
 },
 "nbformat": 4,
 "nbformat_minor": 2
}
