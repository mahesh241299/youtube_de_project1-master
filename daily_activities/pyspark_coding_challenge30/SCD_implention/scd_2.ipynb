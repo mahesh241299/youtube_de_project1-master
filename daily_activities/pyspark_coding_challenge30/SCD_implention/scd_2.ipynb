{
 "cells": [
  {
   "cell_type": "code",
   "execution_count": 9,
   "id": "47cb0ab1",
   "metadata": {},
   "outputs": [
    {
     "name": "stdout",
     "output_type": "stream",
     "text": [
      "+------+--------+-----------+----------+--------+----------+\n",
      "|emp_id|emp_name|designation|start_date|end_date|is_current|\n",
      "+------+--------+-----------+----------+--------+----------+\n",
      "|   101|    John|  Developer|2021-01-01|    null|         Y|\n",
      "|   102|   Alice|    Analyst|2021-01-01|    null|         Y|\n",
      "+------+--------+-----------+----------+--------+----------+\n",
      "\n"
     ]
    }
   ],
   "source": [
    "from pyspark.sql import SparkSession\n",
    "from pyspark.sql.functions import lit, current_date, col, when, expr\n",
    "from pyspark.sql.types import StructType, StructField, StringType, DateType\n",
    "\n",
    "spark = SparkSession.builder.appName(\"SCD2 Example\").getOrCreate()\n",
    "\n",
    "# Existing dimension data (target)\n",
    "dim_schema = StructType([\n",
    "    StructField(\"emp_id\", StringType(), True),\n",
    "    StructField(\"emp_name\", StringType(), True),\n",
    "    StructField(\"designation\", StringType(), True),\n",
    "    StructField(\"start_date\", StringType(), True),\n",
    "    StructField(\"end_date\", StringType(), True),\n",
    "    StructField(\"is_current\", StringType(), True)\n",
    "])\n",
    "\n",
    "dim_data = [\n",
    "    (\"101\", \"John\", \"Developer\", \"2021-01-01\", None, \"Y\"),\n",
    "    (\"102\", \"Alice\", \"Analyst\", \"2021-01-01\", None, \"Y\"),\n",
    "]\n",
    "\n",
    "dim_df = spark.createDataFrame(data=dim_data, schema=dim_schema)\n",
    "dim_df = dim_df.withColumn(\"start_date\", col(\"start_date\").cast(DateType()))\n",
    "dim_df.show()\n"
   ]
  },
  {
   "cell_type": "code",
   "execution_count": 10,
   "id": "ecd7bba8",
   "metadata": {},
   "outputs": [
    {
     "name": "stdout",
     "output_type": "stream",
     "text": [
      "+------+--------+--------------+\n",
      "|emp_id|emp_name|   designation|\n",
      "+------+--------+--------------+\n",
      "|   101|    John|Lead Developer|\n",
      "|   102|   Alice|       Analyst|\n",
      "+------+--------+--------------+\n",
      "\n"
     ]
    }
   ],
   "source": [
    "# New incoming data (source)\n",
    "src_data = [\n",
    "    (\"101\", \"John\", \"Lead Developer\"),  # designation changed\n",
    "    (\"102\", \"Alice\", \"Analyst\"),        # no change\n",
    "]\n",
    "\n",
    "src_schema = StructType([\n",
    "    StructField(\"emp_id\", StringType(), True),\n",
    "    StructField(\"emp_name\", StringType(), True),\n",
    "    StructField(\"designation\", StringType(), True)\n",
    "])\n",
    "\n",
    "src_df = spark.createDataFrame(data=src_data, schema=src_schema)\n",
    "src_df.show()\n"
   ]
  },
  {
   "cell_type": "code",
   "execution_count": 11,
   "id": "fee4b1c3",
   "metadata": {},
   "outputs": [
    {
     "name": "stdout",
     "output_type": "stream",
     "text": [
      "+------+--------+--------------+--------+-----------+----------+--------+----------+\n",
      "|emp_id|emp_name|   designation|emp_name|designation|start_date|end_date|is_current|\n",
      "+------+--------+--------------+--------+-----------+----------+--------+----------+\n",
      "|   101|    John|Lead Developer|    John|  Developer|2021-01-01|    null|         Y|\n",
      "|   102|   Alice|       Analyst|   Alice|    Analyst|2021-01-01|    null|         Y|\n",
      "+------+--------+--------------+--------+-----------+----------+--------+----------+\n",
      "\n",
      "+------+--------+--------------+----------+--------+----------+\n",
      "|emp_id|emp_name|   designation|start_date|end_date|is_current|\n",
      "+------+--------+--------------+----------+--------+----------+\n",
      "|   101|    John|Lead Developer|2025-04-09|    null|         Y|\n",
      "+------+--------+--------------+----------+--------+----------+\n",
      "\n"
     ]
    }
   ],
   "source": [
    "# Join source with current dimension data\n",
    "joined_df = src_df.alias(\"src\").join(\n",
    "    dim_df.filter(col(\"is_current\") == \"Y\").alias(\"tgt\"),\n",
    "    on=\"emp_id\",\n",
    "    how=\"left\"\n",
    ")\n",
    "\n",
    "joined_df.show()\n",
    "\n",
    "# Find changed records (designation mismatch)\n",
    "changed_df = joined_df.filter(\n",
    "    col(\"src.designation\") != col(\"tgt.designation\")\n",
    ").select(\n",
    "    \"src.emp_id\", \"src.emp_name\", \"src.designation\",\n",
    "    current_date().alias(\"start_date\"),\n",
    "    lit(None).cast(DateType()).alias(\"end_date\"),\n",
    "    lit(\"Y\").alias(\"is_current\")\n",
    ")\n",
    "changed_df.show()\n"
   ]
  },
  {
   "cell_type": "code",
   "execution_count": 12,
   "id": "fb6d52a5",
   "metadata": {},
   "outputs": [
    {
     "name": "stdout",
     "output_type": "stream",
     "text": [
      "+------+--------+-----------+----------+----------+----------+\n",
      "|emp_id|emp_name|designation|start_date|  end_date|is_current|\n",
      "+------+--------+-----------+----------+----------+----------+\n",
      "|   101|    John|  Developer|2021-01-01|2025-04-09|         N|\n",
      "+------+--------+-----------+----------+----------+----------+\n",
      "\n"
     ]
    }
   ],
   "source": [
    "# Update existing records - set end_date and is_current='N'\n",
    "expired_df = joined_df.filter(\n",
    "    col(\"src.designation\") != col(\"tgt.designation\")\n",
    ").select(\n",
    "    \"tgt.emp_id\", \"tgt.emp_name\", \"tgt.designation\",\n",
    "    \"tgt.start_date\",\n",
    "    current_date().alias(\"end_date\"),\n",
    "    lit(\"N\").alias(\"is_current\")\n",
    ")\n",
    "expired_df.show()\n"
   ]
  },
  {
   "cell_type": "code",
   "execution_count": 13,
   "id": "212cc464",
   "metadata": {},
   "outputs": [
    {
     "name": "stdout",
     "output_type": "stream",
     "text": [
      "+------+--------+-----------+----------+--------+----------+\n",
      "|emp_id|emp_name|designation|start_date|end_date|is_current|\n",
      "+------+--------+-----------+----------+--------+----------+\n",
      "|   102|   Alice|    Analyst|2021-01-01|    null|         Y|\n",
      "+------+--------+-----------+----------+--------+----------+\n",
      "\n",
      "+------+--------+--------------+----------+----------+----------+\n",
      "|emp_id|emp_name|   designation|start_date|  end_date|is_current|\n",
      "+------+--------+--------------+----------+----------+----------+\n",
      "|   102|   Alice|       Analyst|2021-01-01|      null|         Y|\n",
      "|   101|    John|     Developer|2021-01-01|2025-04-09|         N|\n",
      "|   101|    John|Lead Developer|2025-04-09|      null|         Y|\n",
      "+------+--------+--------------+----------+----------+----------+\n",
      "\n"
     ]
    }
   ],
   "source": [
    "# Combine unchanged records, updated old records, and new changed records\n",
    "unchanged_df = joined_df.filter(\n",
    "    col(\"src.designation\") == col(\"tgt.designation\")\n",
    ").select(\"tgt.*\")\n",
    "unchanged_df.show()\n",
    "\n",
    "final_df = unchanged_df.unionByName(expired_df).unionByName(changed_df)\n",
    "final_df.show()\n"
   ]
  },
  {
   "cell_type": "code",
   "execution_count": 8,
   "id": "387ffb95",
   "metadata": {},
   "outputs": [
    {
     "name": "stdout",
     "output_type": "stream",
     "text": [
      "+------+--------+--------------+----------+----------+----------+\n",
      "|emp_id|emp_name|designation   |start_date|end_date  |is_current|\n",
      "+------+--------+--------------+----------+----------+----------+\n",
      "|101   |John    |Developer     |2021-01-01|2025-04-09|N         |\n",
      "|101   |John    |Lead Developer|2025-04-09|null      |Y         |\n",
      "|102   |Alice   |Analyst       |2021-01-01|null      |Y         |\n",
      "+------+--------+--------------+----------+----------+----------+\n",
      "\n"
     ]
    }
   ],
   "source": [
    "final_df.orderBy(\"emp_id\", \"start_date\").show(truncate=False)\n"
   ]
  }
 ],
 "metadata": {
  "kernelspec": {
   "display_name": "venv",
   "language": "python",
   "name": "python3"
  },
  "language_info": {
   "codemirror_mode": {
    "name": "ipython",
    "version": 3
   },
   "file_extension": ".py",
   "mimetype": "text/x-python",
   "name": "python",
   "nbconvert_exporter": "python",
   "pygments_lexer": "ipython3",
   "version": "3.6.8"
  }
 },
 "nbformat": 4,
 "nbformat_minor": 5
}
