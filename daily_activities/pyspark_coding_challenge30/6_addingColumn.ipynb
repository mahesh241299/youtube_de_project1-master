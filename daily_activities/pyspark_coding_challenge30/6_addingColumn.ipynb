{
 "cells": [
  {
   "cell_type": "code",
   "execution_count": 11,
   "metadata": {},
   "outputs": [
    {
     "data": {
      "text/html": [
       "\n",
       "            <div>\n",
       "                <p><b>SparkSession - in-memory</b></p>\n",
       "                \n",
       "        <div>\n",
       "            <p><b>SparkContext</b></p>\n",
       "\n",
       "            <p><a href=\"http://Mahesh:4042\">Spark UI</a></p>\n",
       "\n",
       "            <dl>\n",
       "              <dt>Version</dt>\n",
       "                <dd><code>v3.3.2</code></dd>\n",
       "              <dt>Master</dt>\n",
       "                <dd><code>local[*]</code></dd>\n",
       "              <dt>AppName</dt>\n",
       "                <dd><code>6 day adding new column</code></dd>\n",
       "            </dl>\n",
       "        </div>\n",
       "        \n",
       "            </div>\n",
       "        "
      ],
      "text/plain": [
       "<pyspark.sql.session.SparkSession at 0x71ddd30>"
      ]
     },
     "execution_count": 11,
     "metadata": {},
     "output_type": "execute_result"
    }
   ],
   "source": [
    "from pyspark.sql import SparkSession\n",
    "from pyspark.sql import functions as f\n",
    "Spark = SparkSession.builder.appName(\"6 day adding new column\").getOrCreate()\n",
    "\n",
    "Spark"
   ]
  },
  {
   "cell_type": "code",
   "execution_count": 3,
   "metadata": {},
   "outputs": [
    {
     "name": "stdout",
     "output_type": "stream",
     "text": [
      "+-------+---+--------+\n",
      "|   Name|Age|    City|\n",
      "+-------+---+--------+\n",
      "|   John| 28|New York|\n",
      "|  Sarah| 24|  London|\n",
      "|Michael| 30|  Sydney|\n",
      "+-------+---+--------+\n",
      "\n"
     ]
    }
   ],
   "source": [
    "data = [(\"John\", 28, \"New York\"), (\"Sarah\", 24, \"London\"), (\"Michael\", 30, \"Sydney\")]\n",
    "columns = [\"Name\", \"Age\", \"City\"]\n",
    "\n",
    "df = Spark.createDataFrame(data, columns)\n",
    "df.show()"
   ]
  },
  {
   "cell_type": "code",
   "execution_count": 15,
   "metadata": {},
   "outputs": [
    {
     "name": "stdout",
     "output_type": "stream",
     "text": [
      "+-------+---+--------+-------+\n",
      "|   Name|Age|    City|country|\n",
      "+-------+---+--------+-------+\n",
      "|   John| 28|New York|  India|\n",
      "|  Sarah| 24|  London|  India|\n",
      "|Michael| 30|  Sydney|  India|\n",
      "+-------+---+--------+-------+\n",
      "\n"
     ]
    }
   ],
   "source": [
    "df_with_country = df.withColumn(\"country\", f.lit(\"India\"))\n",
    "df_with_country.show()"
   ]
  },
  {
   "cell_type": "code",
   "execution_count": 12,
   "metadata": {},
   "outputs": [
    {
     "name": "stdout",
     "output_type": "stream",
     "text": [
      "+-------+---+--------+---------+\n",
      "|   Name|Age|    City|  country|\n",
      "+-------+---+--------+---------+\n",
      "|   John| 28|New York|      USA|\n",
      "|  Sarah| 24|  London|       UK|\n",
      "|Michael| 30|  Sydney|Australia|\n",
      "+-------+---+--------+---------+\n",
      "\n"
     ]
    }
   ],
   "source": [
    "df_country = df.withColumn(\"country\",\n",
    "                         f.when(df[\"city\"] == \"New York\", \"USA\")\n",
    "                        .when(df[\"city\"] == \"London\" , \"UK\")\n",
    "                        .when(df[\"city\"] == \"Sydney\", \"Australia\")\n",
    "                        .otherwise(\"Unknown\")\n",
    ")\n",
    "df_country.show()"
   ]
  },
  {
   "cell_type": "code",
   "execution_count": 19,
   "metadata": {},
   "outputs": [
    {
     "name": "stdout",
     "output_type": "stream",
     "text": [
      "+-------+---+---------+\n",
      "|   Name|Age|  Country|\n",
      "+-------+---+---------+\n",
      "|   John| 28|      USA|\n",
      "|  Sarah| 24|       UK|\n",
      "|Michael| 30|Australia|\n",
      "+-------+---+---------+\n",
      "\n"
     ]
    }
   ],
   "source": [
    "city_to_country = {\"New York\": \"USA\", \"London\": \"UK\", \"Sydney\": \"Australia\"}\n",
    "\n",
    "# df_with_country_dict = df.replace(city_to_country, subset=[\"City\"].withColumnRenamed(\"city\", \"Country\"))\n",
    "\n",
    "df_with_country = df.replace(city_to_country, subset=[\"City\"])\n",
    "\n",
    "# Rename column from 'City' to 'Country'\n",
    "df_with_country_dict = df_with_country.withColumnRenamed(\"City\", \"Country\")\n",
    "df_with_country_dict.show()"
   ]
  },
  {
   "cell_type": "code",
   "execution_count": null,
   "metadata": {},
   "outputs": [],
   "source": []
  }
 ],
 "metadata": {
  "kernelspec": {
   "display_name": "venv",
   "language": "python",
   "name": "python3"
  },
  "language_info": {
   "codemirror_mode": {
    "name": "ipython",
    "version": 3
   },
   "file_extension": ".py",
   "mimetype": "text/x-python",
   "name": "python",
   "nbconvert_exporter": "python",
   "pygments_lexer": "ipython3",
   "version": "3.6.8"
  }
 },
 "nbformat": 4,
 "nbformat_minor": 2
}
