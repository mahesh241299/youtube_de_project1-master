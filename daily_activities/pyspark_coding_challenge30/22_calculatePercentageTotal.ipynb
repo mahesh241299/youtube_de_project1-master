{
 "cells": [
  {
   "cell_type": "code",
   "execution_count": 2,
   "metadata": {},
   "outputs": [
    {
     "name": "stderr",
     "output_type": "stream",
     "text": [
      "c:\\Users\\kumav\\Desktop\\Spark_Project\\youtube_de_project1-master\\data_Phoenix_migration\\venv\\lib\\site-packages\\pyspark\\context.py:238: FutureWarning: Python 3.6 support is deprecated in Spark 3.2.\n",
      "  FutureWarning\n"
     ]
    },
    {
     "data": {
      "text/html": [
       "\n",
       "            <div>\n",
       "                <p><b>SparkSession - in-memory</b></p>\n",
       "                \n",
       "        <div>\n",
       "            <p><b>SparkContext</b></p>\n",
       "\n",
       "            <p><a href=\"http://Mahesh:4042\">Spark UI</a></p>\n",
       "\n",
       "            <dl>\n",
       "              <dt>Version</dt>\n",
       "                <dd><code>v3.3.2</code></dd>\n",
       "              <dt>Master</dt>\n",
       "                <dd><code>local[*]</code></dd>\n",
       "              <dt>AppName</dt>\n",
       "                <dd><code>Percentage calculation</code></dd>\n",
       "            </dl>\n",
       "        </div>\n",
       "        \n",
       "            </div>\n",
       "        "
      ],
      "text/plain": [
       "<pyspark.sql.session.SparkSession at 0x62e8710>"
      ]
     },
     "execution_count": 2,
     "metadata": {},
     "output_type": "execute_result"
    }
   ],
   "source": [
    "from pyspark.sql import SparkSession\n",
    "\n",
    "Spark = SparkSession.builder.appName(\"Percentage calculation\").getOrCreate()\n",
    "Spark"
   ]
  },
  {
   "cell_type": "code",
   "execution_count": 4,
   "metadata": {},
   "outputs": [
    {
     "name": "stdout",
     "output_type": "stream",
     "text": [
      "+----------+------+--------+\n",
      "|Department|salary|emp_name|\n",
      "+----------+------+--------+\n",
      "|     Sales|  5000|    John|\n",
      "|     Sales|  6000|     Doe|\n",
      "|        HR|  7000|    Jane|\n",
      "|        HR|  8000|   Alice|\n",
      "|        IT|  4500|     Bob|\n",
      "|        IT|  5500| Charlie|\n",
      "+----------+------+--------+\n",
      "\n"
     ]
    }
   ],
   "source": [
    "data = [\n",
    " (\"Sales\", 5000, \"John\"),\n",
    " (\"Sales\", 6000, \"Doe\"),\n",
    " (\"HR\", 7000, \"Jane\"),\n",
    " (\"HR\", 8000, \"Alice\"),\n",
    " (\"IT\", 4500, \"Bob\"),\n",
    " (\"IT\", 5500, \"Charlie\"),\n",
    "]\n",
    "\n",
    "columns = ['Department', 'salary', 'emp_name']\n",
    "\n",
    "df = Spark.createDataFrame(data, schema=columns)\n",
    "df.show()"
   ]
  },
  {
   "cell_type": "code",
   "execution_count": null,
   "metadata": {},
   "outputs": [
    {
     "name": "stdout",
     "output_type": "stream",
     "text": [
      "+----------+------------+\n",
      "|Department|Total_Salary|\n",
      "+----------+------------+\n",
      "|     Sales|       11000|\n",
      "|        HR|       15000|\n",
      "|        IT|       10000|\n",
      "+----------+------------+\n",
      "\n"
     ]
    }
   ],
   "source": [
    "from pyspark.sql.functions import sum, broadcast\n",
    "df1 = df.groupby(\"Department\").agg(sum(\"Salary\").alias(\"Total_Salary\"))\n",
    "df1.show()"
   ]
  },
  {
   "cell_type": "code",
   "execution_count": 15,
   "metadata": {},
   "outputs": [
    {
     "name": "stdout",
     "output_type": "stream",
     "text": [
      "+----------+------+--------+----------+------------+\n",
      "|Department|salary|emp_name|Department|Total_Salary|\n",
      "+----------+------+--------+----------+------------+\n",
      "|     Sales|  5000|    John|     Sales|       11000|\n",
      "|     Sales|  6000|     Doe|     Sales|       11000|\n",
      "|        HR|  7000|    Jane|        HR|       15000|\n",
      "|        HR|  8000|   Alice|        HR|       15000|\n",
      "|        IT|  4500|     Bob|        IT|       10000|\n",
      "|        IT|  5500| Charlie|        IT|       10000|\n",
      "+----------+------+--------+----------+------------+\n",
      "\n"
     ]
    }
   ],
   "source": [
    "df_joined = df.join(broadcast(df1), df[\"Department\"] == df1[\"Department\"], 'inner')\n",
    "df_joined.show()"
   ]
  },
  {
   "cell_type": "code",
   "execution_count": 11,
   "metadata": {},
   "outputs": [
    {
     "name": "stdout",
     "output_type": "stream",
     "text": [
      "+----------+------+--------+----------+------------+-----------------+\n",
      "|Department|salary|emp_name|Department|Total_Salary|Salary Percentage|\n",
      "+----------+------+--------+----------+------------+-----------------+\n",
      "|     Sales|  5000|    John|     Sales|       11000|            45.45|\n",
      "|     Sales|  6000|     Doe|     Sales|       11000|            54.55|\n",
      "|        HR|  7000|    Jane|        HR|       15000|            46.67|\n",
      "|        HR|  8000|   Alice|        HR|       15000|            53.33|\n",
      "|        IT|  4500|     Bob|        IT|       10000|             45.0|\n",
      "|        IT|  5500| Charlie|        IT|       10000|             55.0|\n",
      "+----------+------+--------+----------+------------+-----------------+\n",
      "\n"
     ]
    }
   ],
   "source": [
    "from pyspark.sql.functions import *\n",
    "\n",
    "df_percent = df_joined.withColumn(\"Salary Percentage\", \n",
    "                                  round((col('salary')/col('Total_Salary')) * 100,2))\n",
    "df_percent.show()"
   ]
  },
  {
   "cell_type": "code",
   "execution_count": 14,
   "metadata": {},
   "outputs": [
    {
     "name": "stdout",
     "output_type": "stream",
     "text": [
      "+----------+------+--------+----------+------------+-----------------+\n",
      "|Department|salary|emp_name|Department|Total_Salary|Salary Percentage|\n",
      "+----------+------+--------+----------+------------+-----------------+\n",
      "|     Sales|  5000|  Mahesh|     Sales|       11000|            45.45|\n",
      "|     Sales|  6000|     Doe|     Sales|       11000|            54.55|\n",
      "|        HR|  7000|    Jane|        HR|       15000|            46.67|\n",
      "|        HR|  8000|   Alice|        HR|       15000|            53.33|\n",
      "|        IT|  4500|     Bob|        IT|       10000|             45.0|\n",
      "|        IT|  5500| Charlie|        IT|       10000|             55.0|\n",
      "+----------+------+--------+----------+------------+-----------------+\n",
      "\n"
     ]
    }
   ],
   "source": [
    "df_percent1 = df_percent.withColumn(\n",
    "    'emp_name', when(col('emp_name') == \"John\", \"Mahesh\").otherwise(col('emp_name'))\n",
    ")\n",
    "df_percent1.show()"
   ]
  },
  {
   "cell_type": "code",
   "execution_count": null,
   "metadata": {},
   "outputs": [
    {
     "name": "stdout",
     "output_type": "stream",
     "text": [
      "{'d': 1, 'o': 1, 'g': 2, '0': 1}\n"
     ]
    }
   ],
   "source": [
    "def frequency(abc):\n",
    "    dci = {}\n",
    "\n",
    "    for char in abc:\n",
    "        if char in dci:\n",
    "            dci[char] += 1\n",
    "        else:\n",
    "            dci[char] = 1\n",
    "    return dci\n",
    "\n",
    "print(frequency('dogg0'))\n",
    "\n",
    "def frequenc2(lst):\n",
    "    if char in lst:\n",
    "        print(char)\n",
    "    el"
   ]
  }
 ],
 "metadata": {
  "kernelspec": {
   "display_name": "venv",
   "language": "python",
   "name": "python3"
  },
  "language_info": {
   "codemirror_mode": {
    "name": "ipython",
    "version": 3
   },
   "file_extension": ".py",
   "mimetype": "text/x-python",
   "name": "python",
   "nbconvert_exporter": "python",
   "pygments_lexer": "ipython3",
   "version": "3.6.8"
  }
 },
 "nbformat": 4,
 "nbformat_minor": 2
}
