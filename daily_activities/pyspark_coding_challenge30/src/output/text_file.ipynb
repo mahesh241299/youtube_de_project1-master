{
 "cells": [
  {
   "cell_type": "code",
   "execution_count": 2,
   "metadata": {},
   "outputs": [
    {
     "name": "stderr",
     "output_type": "stream",
     "text": [
      "c:\\Users\\kumav\\Desktop\\Spark_Project\\youtube_de_project1-master\\data_Phoenix_migration\\venv\\lib\\site-packages\\pyspark\\context.py:238: FutureWarning: Python 3.6 support is deprecated in Spark 3.2.\n",
      "  FutureWarning\n"
     ]
    }
   ],
   "source": [
    "from pyspark.sql import SparkSession\n",
    "\n",
    "spark = SparkSession.builder.appName(\"word count\").getOrCreate()"
   ]
  },
  {
   "cell_type": "code",
   "execution_count": 3,
   "metadata": {},
   "outputs": [
    {
     "name": "stdout",
     "output_type": "stream",
     "text": [
      "+--------------------+\n",
      "|               value|\n",
      "+--------------------+\n",
      "|My name is mahesh...|\n",
      "|My name is mahesh...|\n",
      "|                    |\n",
      "|                    |\n",
      "|                    |\n",
      "|                    |\n",
      "|                    |\n",
      "|                    |\n",
      "+--------------------+\n",
      "\n"
     ]
    }
   ],
   "source": [
    "df = spark.read.text(\"C:\\\\Users\\\\kumav\\\\Desktop\\\\Spark_Project\\\\Dataa\\\\word.txt\")\n",
    "df.show()"
   ]
  },
  {
   "cell_type": "code",
   "execution_count": 4,
   "metadata": {},
   "outputs": [
    {
     "name": "stdout",
     "output_type": "stream",
     "text": [
      "+-------+\n",
      "|  colun|\n",
      "+-------+\n",
      "|     My|\n",
      "|   name|\n",
      "|     is|\n",
      "| mahesh|\n",
      "|     My|\n",
      "|   name|\n",
      "|     is|\n",
      "| mahesh|\n",
      "| kishor|\n",
      "|     my|\n",
      "|   Name|\n",
      "|     My|\n",
      "|   name|\n",
      "|     is|\n",
      "| mahesh|\n",
      "|   Raju|\n",
      "|Kumavat|\n",
      "|      I|\n",
      "|     am|\n",
      "|   from|\n",
      "+-------+\n",
      "only showing top 20 rows\n",
      "\n"
     ]
    }
   ],
   "source": [
    "from pyspark.sql.functions import *\n",
    "df1 = df.select(explode(split(df.value, \" \")).alias('colun'))\n",
    "df1.show()"
   ]
  },
  {
   "cell_type": "code",
   "execution_count": 6,
   "metadata": {},
   "outputs": [
    {
     "name": "stdout",
     "output_type": "stream",
     "text": [
      "+-------------+-----+\n",
      "|        colun|count|\n",
      "+-------------+-----+\n",
      "|             |    6|\n",
      "|           My|    3|\n",
      "|       mahesh|    3|\n",
      "|           is|    3|\n",
      "|         name|    3|\n",
      "|       kishor|    1|\n",
      "|         Raju|    1|\n",
      "|         Name|    1|\n",
      "|           my|    1|\n",
      "|         from|    1|\n",
      "|      Kumavat|    1|\n",
      "|Sambhajinagar|    1|\n",
      "|            I|    1|\n",
      "|           am|    1|\n",
      "|   Chatrapati|    1|\n",
      "+-------------+-----+\n",
      "\n"
     ]
    }
   ],
   "source": [
    "df3 = df1.groupBy('colun').count().orderBy('count', ascending=False)\n",
    "df3.show() \n"
   ]
  },
  {
   "cell_type": "code",
   "execution_count": null,
   "metadata": {},
   "outputs": [],
   "source": []
  }
 ],
 "metadata": {
  "kernelspec": {
   "display_name": "venv",
   "language": "python",
   "name": "python3"
  },
  "language_info": {
   "codemirror_mode": {
    "name": "ipython",
    "version": 3
   },
   "file_extension": ".py",
   "mimetype": "text/x-python",
   "name": "python",
   "nbconvert_exporter": "python",
   "pygments_lexer": "ipython3",
   "version": "3.6.8"
  }
 },
 "nbformat": 4,
 "nbformat_minor": 2
}
