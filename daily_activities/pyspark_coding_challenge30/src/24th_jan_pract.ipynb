{
 "cells": [
  {
   "cell_type": "code",
   "execution_count": 1,
   "metadata": {},
   "outputs": [
    {
     "name": "stderr",
     "output_type": "stream",
     "text": [
      "c:\\Users\\kumav\\Desktop\\Spark_Project\\youtube_de_project1-master\\data_Phoenix_migration\\venv\\lib\\site-packages\\pyspark\\context.py:238: FutureWarning: Python 3.6 support is deprecated in Spark 3.2.\n",
      "  FutureWarning\n"
     ]
    },
    {
     "name": "stdout",
     "output_type": "stream",
     "text": [
      "+------+--------+----+--------+----+\n",
      "|emp_id|emp_name| sal|emp_name| sal|\n",
      "+------+--------+----+--------+----+\n",
      "|     5|   Alice|1100|    John|1000|\n",
      "+------+--------+----+--------+----+\n",
      "\n"
     ]
    }
   ],
   "source": [
    "from pyspark.sql import SparkSession\n",
    "from pyspark.sql.functions import col\n",
    "\n",
    "# Initialize Spark session\n",
    "spark = SparkSession.builder.appName(\"SelfJoinExample\").getOrCreate()\n",
    "\n",
    "# Sample data for the employees\n",
    "data = [\n",
    "    (1, \"John\", 1000, 2),\n",
    "    (2, \"Doe\", 1200, 3),\n",
    "    (3, \"Jane\", 1500, None),\n",
    "    (4, \"Dave\", 900, 2),\n",
    "    (5, \"Alice\", 1100, 1)\n",
    "]\n",
    "\n",
    "# Create DataFrame from sample data\n",
    "columns = [\"emp_id\", \"emp_name\", \"sal\", \"manager_id\"]\n",
    "emp_df = spark.createDataFrame(data, columns)\n",
    "\n",
    "# Perform a self join to compare employee salary with manager salary\n",
    "self_join_df = emp_df.alias(\"emp\").join(\n",
    "    emp_df.alias(\"manager\"),\n",
    "    col(\"emp.manager_id\") == col(\"manager.emp_id\"),\n",
    "    \"inner\"\n",
    ")\n",
    "\n",
    "# Filter rows where employee salary is greater than manager salary\n",
    "result_df = self_join_df.filter(col(\"emp.sal\") > col(\"manager.sal\"))\n",
    "\n",
    "# Show the result\n",
    "result_df.select(\"emp.emp_id\", \"emp.emp_name\", \"emp.sal\", \"manager.emp_name\", \"manager.sal\").show()\n"
   ]
  },
  {
   "cell_type": "code",
   "execution_count": 3,
   "metadata": {},
   "outputs": [
    {
     "data": {
      "text/plain": [
       "['emp_id',\n",
       " 'emp_name',\n",
       " 'sal',\n",
       " 'manager_id',\n",
       " 'emp_id',\n",
       " 'emp_name',\n",
       " 'sal',\n",
       " 'manager_id']"
      ]
     },
     "execution_count": 3,
     "metadata": {},
     "output_type": "execute_result"
    }
   ],
   "source": [
    "result_df.columns"
   ]
  },
  {
   "cell_type": "code",
   "execution_count": 4,
   "metadata": {},
   "outputs": [
    {
     "data": {
      "text/plain": [
       "<bound method DataFrame.first of DataFrame[emp_id: bigint, emp_name: string, sal: bigint, manager_id: bigint, emp_id: bigint, emp_name: string, sal: bigint, manager_id: bigint]>"
      ]
     },
     "execution_count": 4,
     "metadata": {},
     "output_type": "execute_result"
    }
   ],
   "source": [
    "result_df.first"
   ]
  },
  {
   "cell_type": "code",
   "execution_count": 5,
   "metadata": {},
   "outputs": [
    {
     "data": {
      "text/plain": [
       "DataFrame[emp_id: bigint, emp_name: string, sal: bigint, manager_id: bigint, emp_id: bigint, emp_name: string, sal: bigint, manager_id: bigint]"
      ]
     },
     "execution_count": 5,
     "metadata": {},
     "output_type": "execute_result"
    }
   ],
   "source": [
    "self_join_df"
   ]
  },
  {
   "cell_type": "code",
   "execution_count": 6,
   "metadata": {},
   "outputs": [
    {
     "name": "stdout",
     "output_type": "stream",
     "text": [
      "root\n",
      " |-- emp_id: long (nullable = true)\n",
      " |-- emp_name: string (nullable = true)\n",
      " |-- sal: long (nullable = true)\n",
      " |-- manager_id: long (nullable = true)\n",
      " |-- emp_id: long (nullable = true)\n",
      " |-- emp_name: string (nullable = true)\n",
      " |-- sal: long (nullable = true)\n",
      " |-- manager_id: long (nullable = true)\n",
      "\n"
     ]
    }
   ],
   "source": [
    "self_join_df.printSchema()"
   ]
  },
  {
   "cell_type": "code",
   "execution_count": 7,
   "metadata": {},
   "outputs": [],
   "source": [
    "data = [\n",
    "    (1, \"John\", 1000, 2),\n",
    "    (2, \"Doe\", 1200, 3),\n",
    "    (3, \"Jane\", 1500, None),\n",
    "    (4, \"Dave\", 900, 2),\n",
    "    (5, \"Alice\", 1100, 1)\n",
    "]\n",
    "\n",
    "# Create DataFrame from sample data\n",
    "columns = [\"emp_id\", \"emp_name\", \"sal\", \"manager_id\"]\n",
    "emp_df = spark.createDataFrame(data, columns)"
   ]
  },
  {
   "cell_type": "code",
   "execution_count": 8,
   "metadata": {},
   "outputs": [
    {
     "name": "stdout",
     "output_type": "stream",
     "text": [
      "+------+--------+----+----------+\n",
      "|emp_id|emp_name| sal|manager_id|\n",
      "+------+--------+----+----------+\n",
      "|     1|    John|1000|         2|\n",
      "|     2|     Doe|1200|         3|\n",
      "|     3|    Jane|1500|      null|\n",
      "|     4|    Dave| 900|         2|\n",
      "|     5|   Alice|1100|         1|\n",
      "+------+--------+----+----------+\n",
      "\n"
     ]
    }
   ],
   "source": [
    "emp_df.show()"
   ]
  },
  {
   "cell_type": "code",
   "execution_count": 11,
   "metadata": {},
   "outputs": [
    {
     "name": "stdout",
     "output_type": "stream",
     "text": [
      "+------+--------+----+----------+------+--------+----+----------+\n",
      "|emp_id|emp_name| sal|manager_id|emp_id|emp_name| sal|manager_id|\n",
      "+------+--------+----+----------+------+--------+----+----------+\n",
      "|     1|    John|1000|         2|     5|   Alice|1100|         1|\n",
      "|     2|     Doe|1200|         3|     1|    John|1000|         2|\n",
      "|     2|     Doe|1200|         3|     4|    Dave| 900|         2|\n",
      "|     3|    Jane|1500|      null|     2|     Doe|1200|         3|\n",
      "+------+--------+----+----------+------+--------+----+----------+\n",
      "\n"
     ]
    }
   ],
   "source": [
    "self_join_df = emp_df.alias(\"emp\").join(\n",
    "    emp_df.alias(\"manager\"),\n",
    "    col(\"emp.manager_id\") == col(\"manager.emp_id\"),\n",
    "    \"inner\"\n",
    ")\n",
    "\n",
    "# self join used in pyspark\n",
    "\n",
    "emp_df = emp_df.alias(\"emp1\").join(emp_df.alias(\"emp2\"), col(\"emp1.emp_id\") == col(\"emp2.manager_id\"), \"inner\")\n",
    "emp_df.show()"
   ]
  },
  {
   "cell_type": "code",
   "execution_count": 1,
   "metadata": {},
   "outputs": [
    {
     "ename": "NameError",
     "evalue": "name 'spark' is not defined",
     "output_type": "error",
     "traceback": [
      "\u001b[1;31m---------------------------------------------------------------------------\u001b[0m",
      "\u001b[1;31mNameError\u001b[0m                                 Traceback (most recent call last)",
      "\u001b[1;32m<ipython-input-1-5c6b4d5d9db0>\u001b[0m in \u001b[0;36m<module>\u001b[1;34m\u001b[0m\n\u001b[1;32m----> 1\u001b[1;33m \u001b[0mspark\u001b[0m\u001b[1;33m.\u001b[0m\u001b[0mstop\u001b[0m\u001b[1;33m(\u001b[0m\u001b[1;33m)\u001b[0m\u001b[1;33m\u001b[0m\u001b[1;33m\u001b[0m\u001b[0m\n\u001b[0m",
      "\u001b[1;31mNameError\u001b[0m: name 'spark' is not defined"
     ]
    }
   ],
   "source": [
    "spark.stop()"
   ]
  },
  {
   "cell_type": "code",
   "execution_count": null,
   "metadata": {},
   "outputs": [],
   "source": []
  }
 ],
 "metadata": {
  "kernelspec": {
   "display_name": "venv",
   "language": "python",
   "name": "python3"
  },
  "language_info": {
   "codemirror_mode": {
    "name": "ipython",
    "version": 3
   },
   "file_extension": ".py",
   "mimetype": "text/x-python",
   "name": "python",
   "nbconvert_exporter": "python",
   "pygments_lexer": "ipython3",
   "version": "3.6.8"
  }
 },
 "nbformat": 4,
 "nbformat_minor": 2
}
