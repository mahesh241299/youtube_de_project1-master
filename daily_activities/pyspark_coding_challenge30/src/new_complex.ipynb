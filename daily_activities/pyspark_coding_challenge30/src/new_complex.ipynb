{
 "cells": [
  {
   "cell_type": "code",
   "execution_count": 2,
   "metadata": {},
   "outputs": [],
   "source": [
    "from pyspark.sql import SparkSession\n",
    "from pyspark.sql.functions import *\n",
    "\n",
    "spark = SparkSession.builder.appName(\"when otherwise question\").getOrCreate()"
   ]
  },
  {
   "cell_type": "code",
   "execution_count": 3,
   "metadata": {},
   "outputs": [],
   "source": [
    "# Sample data\n",
    "data = [\n",
    "    (\"A1\", \"ID1\", 1000),\n",
    "    (\"A1\", \"ID2\", 1500),\n",
    "    (\"A2\", \"ID3\", 2000),\n",
    "    (\"A3\", \"ID4\", 500),\n",
    "    (\"A3\", \"ID5\", 700),\n",
    "    (\"A3\", \"ID6\", 800),\n",
    "    (\"A4\", \"ID7\", 1200)\n",
    "]\n",
    "\n",
    "# Create DataFrame\n",
    "columns = [\"Account_No\", \"Customer_ID\", \"Amount\"]"
   ]
  },
  {
   "cell_type": "code",
   "execution_count": 4,
   "metadata": {},
   "outputs": [
    {
     "name": "stdout",
     "output_type": "stream",
     "text": [
      "+----------+-----------+------+\n",
      "|Account_No|Customer_ID|Amount|\n",
      "+----------+-----------+------+\n",
      "|        A1|        ID1|  1000|\n",
      "|        A1|        ID2|  1500|\n",
      "|        A2|        ID3|  2000|\n",
      "|        A3|        ID4|   500|\n",
      "|        A3|        ID5|   700|\n",
      "|        A3|        ID6|   800|\n",
      "|        A4|        ID7|  1200|\n",
      "+----------+-----------+------+\n",
      "\n"
     ]
    }
   ],
   "source": [
    "df = spark.createDataFrame(data, columns)\n",
    "df.show()"
   ]
  },
  {
   "cell_type": "code",
   "execution_count": 5,
   "metadata": {},
   "outputs": [
    {
     "name": "stdout",
     "output_type": "stream",
     "text": [
      "+----------+----------+\n",
      "|Account_No|Max_Amount|\n",
      "+----------+----------+\n",
      "|        A1|      1500|\n",
      "|        A2|      2000|\n",
      "|        A3|       800|\n",
      "|        A4|      1200|\n",
      "+----------+----------+\n",
      "\n"
     ]
    }
   ],
   "source": [
    "df2 = df.groupBy(\"Account_No\").agg(max(\"Amount\").alias(\"Max_Amount\"))\n",
    "df2.show()"
   ]
  },
  {
   "cell_type": "code",
   "execution_count": 6,
   "metadata": {},
   "outputs": [
    {
     "name": "stdout",
     "output_type": "stream",
     "text": [
      "+----------+-------------+--------------+\n",
      "|Account_No|Acocunt_count|Account status|\n",
      "+----------+-------------+--------------+\n",
      "|        A1|            2|         Joint|\n",
      "|        A2|            1|           IND|\n",
      "|        A3|            3|         Joint|\n",
      "|        A4|            1|           IND|\n",
      "+----------+-------------+--------------+\n",
      "\n"
     ]
    }
   ],
   "source": [
    "df3 = df.groupBy(\"Account_No\").agg(count(\"Customer_ID\").alias(\"Acocunt_count\"))\\\n",
    "                .withColumn(\"Account status\", when(col(\"Acocunt_count\") > 1, \"Joint\").otherwise(\"IND\"))\n",
    "df3.show()"
   ]
  },
  {
   "cell_type": "code",
   "execution_count": 7,
   "metadata": {},
   "outputs": [],
   "source": [
    "data = [\n",
    "('Mahesh', 'A1', 100),\n",
    "('Kishor' , 'A1', 200),\n",
    "('Saurabh' , 'A2', 411),\n",
    "('Chetan', 'A3', 744)\n",
    "]\n",
    "\n",
    "\n",
    "column = ['name', 'accountNumber', 'amount']"
   ]
  },
  {
   "cell_type": "code",
   "execution_count": 8,
   "metadata": {},
   "outputs": [
    {
     "name": "stdout",
     "output_type": "stream",
     "text": [
      "+-------+-------------+------+\n",
      "|   name|accountNumber|amount|\n",
      "+-------+-------------+------+\n",
      "| Mahesh|           A1|   100|\n",
      "| Kishor|           A1|   200|\n",
      "|Saurabh|           A2|   411|\n",
      "| Chetan|           A3|   744|\n",
      "+-------+-------------+------+\n",
      "\n"
     ]
    }
   ],
   "source": [
    "df_1 = spark.createDataFrame(data, column)\n",
    "df_1.show()"
   ]
  },
  {
   "cell_type": "code",
   "execution_count": 9,
   "metadata": {},
   "outputs": [
    {
     "name": "stdout",
     "output_type": "stream",
     "text": [
      "+-------------+-------------+--------------+\n",
      "|accountNumber|Acocunt_count|Account status|\n",
      "+-------------+-------------+--------------+\n",
      "|           A2|            1|           IND|\n",
      "|           A3|            1|           IND|\n",
      "|           A1|            2|         Joint|\n",
      "+-------------+-------------+--------------+\n",
      "\n"
     ]
    }
   ],
   "source": [
    "df4 = df_1.groupBy(\"accountNumber\").agg(countDistinct(\"name\").alias(\"Acocunt_count\"))\\\n",
    "                .withColumn(\"Account status\", when(col(\"Acocunt_count\") > 1, \"Joint\").otherwise(\"IND\"))\n",
    "df4.show()"
   ]
  }
 ],
 "metadata": {
  "kernelspec": {
   "display_name": "venv",
   "language": "python",
   "name": "python3"
  },
  "language_info": {
   "codemirror_mode": {
    "name": "ipython",
    "version": 3
   },
   "file_extension": ".py",
   "mimetype": "text/x-python",
   "name": "python",
   "nbconvert_exporter": "python",
   "pygments_lexer": "ipython3",
   "version": "3.6.8"
  }
 },
 "nbformat": 4,
 "nbformat_minor": 2
}
