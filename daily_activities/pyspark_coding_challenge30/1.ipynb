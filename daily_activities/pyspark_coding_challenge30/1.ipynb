{
 "cells": [
  {
   "cell_type": "markdown",
   "metadata": {},
   "source": [
    "𝐐𝐮𝐞𝐬𝐭𝐢𝐨𝐧 1 Find the top N most frequent words in a large text file"
   ]
  },
  {
   "cell_type": "code",
   "execution_count": 10,
   "metadata": {},
   "outputs": [],
   "source": [
    "from pyspark.sql import SparkSession\n",
    "from pyspark.sql import functions as f\n",
    "\n",
    "\n",
    "spark = SparkSession.builder\\\n",
    "        .appName(\"1st day challenge\")\\\n",
    "        .getOrCreate()\n",
    "\n",
    "file_path = \"C:\\\\Users\\\\kumav\\\\Desktop\\\\cv Latest\\\\sample.txt\"\n"
   ]
  },
  {
   "cell_type": "code",
   "execution_count": 11,
   "metadata": {},
   "outputs": [
    {
     "name": "stdout",
     "output_type": "stream",
     "text": [
      "+-------------------+\n",
      "|              value|\n",
      "+-------------------+\n",
      "|        Hello world|\n",
      "| Hello from PySpark|\n",
      "| PySpark is awesome|\n",
      "|Hello PySpark world|\n",
      "+-------------------+\n",
      "\n",
      "+-------+\n",
      "|   word|\n",
      "+-------+\n",
      "|  Hello|\n",
      "|  world|\n",
      "|  Hello|\n",
      "|   from|\n",
      "|PySpark|\n",
      "|PySpark|\n",
      "|     is|\n",
      "|awesome|\n",
      "|  Hello|\n",
      "|PySpark|\n",
      "|  world|\n",
      "+-------+\n",
      "\n"
     ]
    }
   ],
   "source": [
    "\n",
    "df = spark.read.text(file_path)\n",
    "df.show()\n",
    "\n",
    "words_df = df.select(f.explode(f.split(df[\"value\"], \" \")).alias(\"word\"))\n",
    "words_df.show()"
   ]
  },
  {
   "cell_type": "code",
   "execution_count": 12,
   "metadata": {},
   "outputs": [
    {
     "name": "stdout",
     "output_type": "stream",
     "text": [
      "+-------+-----+\n",
      "|   word|count|\n",
      "+-------+-----+\n",
      "|     is|    1|\n",
      "|  Hello|    3|\n",
      "|   from|    1|\n",
      "|PySpark|    3|\n",
      "|  world|    2|\n",
      "|awesome|    1|\n",
      "+-------+-----+\n",
      "\n"
     ]
    }
   ],
   "source": [
    "\n",
    "words_df = words_df.withColumn(\"words\", f.lower(f.col(\"word\")))\n",
    "word_count_df = words_df.groupBy(\"word\").count()\n",
    "word_count_df.show()"
   ]
  },
  {
   "cell_type": "code",
   "execution_count": 13,
   "metadata": {},
   "outputs": [
    {
     "name": "stdout",
     "output_type": "stream",
     "text": [
      "+-------+-----+\n",
      "|   word|count|\n",
      "+-------+-----+\n",
      "|  Hello|    3|\n",
      "|PySpark|    3|\n",
      "|  world|    2|\n",
      "+-------+-----+\n",
      "\n"
     ]
    }
   ],
   "source": [
    "\n",
    "sorted_word_df = word_count_df.orderBy(word_count_df[\"count\"].desc())\n",
    "top_n = 3\n",
    "top_words = sorted_word_df.limit(top_n)\n",
    "top_words.show()\n",
    "\n",
    "spark.stop()"
   ]
  }
 ],
 "metadata": {
  "kernelspec": {
   "display_name": "venv",
   "language": "python",
   "name": "python3"
  },
  "language_info": {
   "codemirror_mode": {
    "name": "ipython",
    "version": 3
   },
   "file_extension": ".py",
   "mimetype": "text/x-python",
   "name": "python",
   "nbconvert_exporter": "python",
   "pygments_lexer": "ipython3",
   "version": "3.6.8"
  }
 },
 "nbformat": 4,
 "nbformat_minor": 2
}
