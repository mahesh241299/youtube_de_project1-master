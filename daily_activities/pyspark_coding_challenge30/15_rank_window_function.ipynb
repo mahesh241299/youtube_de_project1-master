{
 "cells": [
  {
   "cell_type": "code",
   "execution_count": 1,
   "metadata": {},
   "outputs": [
    {
     "name": "stderr",
     "output_type": "stream",
     "text": [
      "c:\\Users\\kumav\\Desktop\\Spark_Project\\youtube_de_project1-master\\data_Phoenix_migration\\venv\\lib\\site-packages\\pyspark\\context.py:238: FutureWarning: Python 3.6 support is deprecated in Spark 3.2.\n",
      "  FutureWarning\n"
     ]
    }
   ],
   "source": [
    "from pyspark.sql import SparkSession\n",
    "from pyspark.sql import functions as F\n",
    "\n",
    "spark = SparkSession.builder.appName('15 rank function').getOrCreate()"
   ]
  },
  {
   "cell_type": "code",
   "execution_count": 2,
   "metadata": {},
   "outputs": [
    {
     "data": {
      "text/html": [
       "\n",
       "            <div>\n",
       "                <p><b>SparkSession - in-memory</b></p>\n",
       "                \n",
       "        <div>\n",
       "            <p><b>SparkContext</b></p>\n",
       "\n",
       "            <p><a href=\"http://Mahesh:4040\">Spark UI</a></p>\n",
       "\n",
       "            <dl>\n",
       "              <dt>Version</dt>\n",
       "                <dd><code>v3.3.2</code></dd>\n",
       "              <dt>Master</dt>\n",
       "                <dd><code>local[*]</code></dd>\n",
       "              <dt>AppName</dt>\n",
       "                <dd><code>15 rank function</code></dd>\n",
       "            </dl>\n",
       "        </div>\n",
       "        \n",
       "            </div>\n",
       "        "
      ],
      "text/plain": [
       "<pyspark.sql.session.SparkSession at 0x670bcb0>"
      ]
     },
     "execution_count": 2,
     "metadata": {},
     "output_type": "execute_result"
    }
   ],
   "source": [
    "spark"
   ]
  },
  {
   "cell_type": "code",
   "execution_count": 3,
   "metadata": {},
   "outputs": [],
   "source": [
    "data = [\n",
    " (\"Sales\", 5000, \"John\"),\n",
    " (\"Sales\", 6000, \"Doe\"),\n",
    " (\"HR\", 7000, \"Jane\"),\n",
    " (\"HR\", 8000, \"Alice\"),\n",
    " (\"IT\", 4500, \"Bob\"),\n",
    " (\"IT\", 5500, \"Charlie\"),\n",
    "]\n",
    "\n",
    "columns = ['Department', 'salary', 'emp_name']"
   ]
  },
  {
   "cell_type": "code",
   "execution_count": 5,
   "metadata": {},
   "outputs": [
    {
     "name": "stdout",
     "output_type": "stream",
     "text": [
      "+----------+------+--------+\n",
      "|Department|salary|emp_name|\n",
      "+----------+------+--------+\n",
      "|     Sales|  5000|    John|\n",
      "|     Sales|  6000|     Doe|\n",
      "|        HR|  7000|    Jane|\n",
      "|        HR|  8000|   Alice|\n",
      "|        IT|  4500|     Bob|\n",
      "|        IT|  5500| Charlie|\n",
      "+----------+------+--------+\n",
      "\n"
     ]
    }
   ],
   "source": [
    "df = spark.createDataFrame(data, columns)\n",
    "df.show()"
   ]
  },
  {
   "cell_type": "code",
   "execution_count": 7,
   "metadata": {},
   "outputs": [
    {
     "name": "stdout",
     "output_type": "stream",
     "text": [
      "+----------+------+--------+----+\n",
      "|Department|salary|emp_name|rank|\n",
      "+----------+------+--------+----+\n",
      "|        HR|  7000|    Jane|   1|\n",
      "|        HR|  8000|   Alice|   2|\n",
      "|        IT|  4500|     Bob|   1|\n",
      "|        IT|  5500| Charlie|   2|\n",
      "|     Sales|  5000|    John|   1|\n",
      "|     Sales|  6000|     Doe|   2|\n",
      "+----------+------+--------+----+\n",
      "\n"
     ]
    }
   ],
   "source": [
    "from pyspark.sql.window import Window\n",
    "\n",
    "window_spec = Window.partitionBy('Department').orderBy('salary')\n",
    "\n",
    "df = df.withColumn('rank', F.rank().over(window_spec))\n",
    "df.show()"
   ]
  },
  {
   "cell_type": "code",
   "execution_count": null,
   "metadata": {},
   "outputs": [],
   "source": []
  }
 ],
 "metadata": {
  "kernelspec": {
   "display_name": "venv",
   "language": "python",
   "name": "python3"
  },
  "language_info": {
   "codemirror_mode": {
    "name": "ipython",
    "version": 3
   },
   "file_extension": ".py",
   "mimetype": "text/x-python",
   "name": "python",
   "nbconvert_exporter": "python",
   "pygments_lexer": "ipython3",
   "version": "3.6.8"
  }
 },
 "nbformat": 4,
 "nbformat_minor": 2
}
