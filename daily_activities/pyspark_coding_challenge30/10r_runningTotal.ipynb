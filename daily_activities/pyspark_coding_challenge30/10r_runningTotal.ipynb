{
 "cells": [
  {
   "cell_type": "code",
   "execution_count": 8,
   "metadata": {},
   "outputs": [],
   "source": [
    "from pyspark.sql import SparkSession\n",
    "from pyspark.sql import Window\n",
    "from pyspark.sql.functions import *\n",
    "\n",
    "spark = SparkSession.builder.appName(\"Running total sum\").getOrCreate()"
   ]
  },
  {
   "cell_type": "code",
   "execution_count": 9,
   "metadata": {},
   "outputs": [
    {
     "name": "stdout",
     "output_type": "stream",
     "text": [
      "+----------+------+-----+\n",
      "|      date|symbol|price|\n",
      "+----------+------+-----+\n",
      "|2024-09-01|  AAPL|  150|\n",
      "|2024-09-02|  AAPL|  160|\n",
      "|2024-09-03|  AAPL|  170|\n",
      "|2024-09-01| GOOGL| 1200|\n",
      "|2024-09-02| GOOGL| 1250|\n",
      "|2024-09-03| GOOGL| 1300|\n",
      "+----------+------+-----+\n",
      "\n"
     ]
    }
   ],
   "source": [
    "data = [ \n",
    "    (\"2024-09-01\", \"AAPL\", 150), \n",
    "    (\"2024-09-02\", \"AAPL\", 160), \n",
    "    (\"2024-09-03\", \"AAPL\", 170), \n",
    "    (\"2024-09-01\", \"GOOGL\", 1200),\n",
    "    (\"2024-09-02\", \"GOOGL\", 1250), \n",
    "    (\"2024-09-03\", \"GOOGL\", 1300) \n",
    "    ] \n",
    "\n",
    "columns =  [\"date\", \"symbol\", \"price\"]\n",
    "\n",
    "df = spark.createDataFrame(data, columns)\n",
    "df.show()"
   ]
  },
  {
   "cell_type": "code",
   "execution_count": 10,
   "metadata": {},
   "outputs": [
    {
     "name": "stdout",
     "output_type": "stream",
     "text": [
      "+----------+------+-----+----------------+\n",
      "|      date|symbol|price|cumulative Price|\n",
      "+----------+------+-----+----------------+\n",
      "|2024-09-01|  AAPL|  150|             150|\n",
      "|2024-09-02|  AAPL|  160|             310|\n",
      "|2024-09-03|  AAPL|  170|             480|\n",
      "|2024-09-01| GOOGL| 1200|            1200|\n",
      "|2024-09-02| GOOGL| 1250|            2450|\n",
      "|2024-09-03| GOOGL| 1300|            3750|\n",
      "+----------+------+-----+----------------+\n",
      "\n"
     ]
    }
   ],
   "source": [
    "window_spec = Window.partitionBy(\"symbol\").orderBy('date')\n",
    "result_df = df.withColumn('cumulative Price', sum(col('price')).over(window_spec))\n",
    "result_df.show()\n"
   ]
  },
  {
   "cell_type": "code",
   "execution_count": null,
   "metadata": {},
   "outputs": [],
   "source": []
  }
 ],
 "metadata": {
  "kernelspec": {
   "display_name": "venv",
   "language": "python",
   "name": "python3"
  },
  "language_info": {
   "codemirror_mode": {
    "name": "ipython",
    "version": 3
   },
   "file_extension": ".py",
   "mimetype": "text/x-python",
   "name": "python",
   "nbconvert_exporter": "python",
   "pygments_lexer": "ipython3",
   "version": "3.6.8"
  }
 },
 "nbformat": 4,
 "nbformat_minor": 2
}
