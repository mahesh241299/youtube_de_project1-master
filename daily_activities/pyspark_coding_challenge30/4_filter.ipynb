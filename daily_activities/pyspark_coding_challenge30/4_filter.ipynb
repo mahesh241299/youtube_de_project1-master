{
 "cells": [
  {
   "cell_type": "code",
   "execution_count": 1,
   "metadata": {},
   "outputs": [
    {
     "name": "stderr",
     "output_type": "stream",
     "text": [
      "c:\\Users\\kumav\\Desktop\\Spark_Project\\youtube_de_project1-master\\data_Phoenix_migration\\venv\\lib\\site-packages\\pyspark\\context.py:238: FutureWarning: Python 3.6 support is deprecated in Spark 3.2.\n",
      "  FutureWarning\n"
     ]
    }
   ],
   "source": [
    "from pyspark.sql import SparkSession\n",
    "\n",
    "spark = SparkSession.builder.appName(\"4th day practice\").getOrCreate()\n"
   ]
  },
  {
   "cell_type": "code",
   "execution_count": 2,
   "metadata": {},
   "outputs": [
    {
     "name": "stdout",
     "output_type": "stream",
     "text": [
      "+---+-----+------+\n",
      "| ID| Name|Salary|\n",
      "+---+-----+------+\n",
      "|  1|Alice|  2000|\n",
      "|  2|  Bob|  3000|\n",
      "|  3|Alice|  2000|\n",
      "|  4|David|  4000|\n",
      "|  5|Alice|  5000|\n",
      "|  6|  Bob|  3000|\n",
      "+---+-----+------+\n",
      "\n"
     ]
    }
   ],
   "source": [
    "data = [ (1, \"Alice\", 2000), (2, \"Bob\", 3000), \n",
    " (3, \"Alice\", 2000), (4, \"David\", 4000), \n",
    " (5, \"Alice\", 5000), (6, \"Bob\", 3000) ] \n",
    "\n",
    "columns = [\"ID\", \"Name\", \"Salary\"] \n",
    "\n",
    "df = spark.createDataFrame(data, columns)\n",
    "df.show()"
   ]
  },
  {
   "cell_type": "code",
   "execution_count": 3,
   "metadata": {},
   "outputs": [
    {
     "name": "stdout",
     "output_type": "stream",
     "text": [
      "+-----+\n",
      "| name|\n",
      "+-----+\n",
      "|David|\n",
      "|Alice|\n",
      "+-----+\n",
      "\n"
     ]
    }
   ],
   "source": [
    "df_filter = df.filter(df[\"Salary\"] > 3000).select(\"name\")\n",
    "df_filter.show()"
   ]
  }
 ],
 "metadata": {
  "kernelspec": {
   "display_name": "venv",
   "language": "python",
   "name": "python3"
  },
  "language_info": {
   "codemirror_mode": {
    "name": "ipython",
    "version": 3
   },
   "file_extension": ".py",
   "mimetype": "text/x-python",
   "name": "python",
   "nbconvert_exporter": "python",
   "pygments_lexer": "ipython3",
   "version": "3.6.8"
  }
 },
 "nbformat": 4,
 "nbformat_minor": 2
}
