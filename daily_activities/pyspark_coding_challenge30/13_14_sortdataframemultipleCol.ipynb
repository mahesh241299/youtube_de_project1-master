{
 "cells": [
  {
   "cell_type": "code",
   "execution_count": 2,
   "metadata": {},
   "outputs": [
    {
     "name": "stderr",
     "output_type": "stream",
     "text": [
      "c:\\Users\\kumav\\Desktop\\Spark_Project\\youtube_de_project1-master\\data_Phoenix_migration\\venv\\lib\\site-packages\\pyspark\\context.py:238: FutureWarning: Python 3.6 support is deprecated in Spark 3.2.\n",
      "  FutureWarning\n"
     ]
    }
   ],
   "source": [
    "from pyspark.sql import SparkSession\n",
    "from pyspark.sql import functions as F\n",
    "\n",
    "spark = SparkSession.builder.appName(\"13 sort dataframe based on multiple columns\").getOrCreate()"
   ]
  },
  {
   "cell_type": "code",
   "execution_count": 3,
   "metadata": {},
   "outputs": [
    {
     "data": {
      "text/html": [
       "\n",
       "            <div>\n",
       "                <p><b>SparkSession - in-memory</b></p>\n",
       "                \n",
       "        <div>\n",
       "            <p><b>SparkContext</b></p>\n",
       "\n",
       "            <p><a href=\"http://Mahesh:4040\">Spark UI</a></p>\n",
       "\n",
       "            <dl>\n",
       "              <dt>Version</dt>\n",
       "                <dd><code>v3.3.2</code></dd>\n",
       "              <dt>Master</dt>\n",
       "                <dd><code>local[*]</code></dd>\n",
       "              <dt>AppName</dt>\n",
       "                <dd><code>13 sort dataframe based on multiple columns</code></dd>\n",
       "            </dl>\n",
       "        </div>\n",
       "        \n",
       "            </div>\n",
       "        "
      ],
      "text/plain": [
       "<pyspark.sql.session.SparkSession at 0x71b9c50>"
      ]
     },
     "execution_count": 3,
     "metadata": {},
     "output_type": "execute_result"
    }
   ],
   "source": [
    "spark"
   ]
  },
  {
   "cell_type": "code",
   "execution_count": 4,
   "metadata": {},
   "outputs": [],
   "source": [
    "data = [\n",
    " ('Alice', 34, 'New York'),\n",
    " ('Bob', 45, 'San Francisco'),\n",
    " ('Catherine', 29, 'Los Angeles'),\n",
    " ('Daniel', 35, 'New York'),\n",
    " ('Eva', 45, 'Los Angeles')\n",
    "]\n",
    "columns = ['Name', 'Age', 'City']"
   ]
  },
  {
   "cell_type": "code",
   "execution_count": 5,
   "metadata": {},
   "outputs": [
    {
     "name": "stdout",
     "output_type": "stream",
     "text": [
      "+---------+---+-------------+\n",
      "|     Name|Age|         City|\n",
      "+---------+---+-------------+\n",
      "|    Alice| 34|     New York|\n",
      "|      Bob| 45|San Francisco|\n",
      "|Catherine| 29|  Los Angeles|\n",
      "|   Daniel| 35|     New York|\n",
      "|      Eva| 45|  Los Angeles|\n",
      "+---------+---+-------------+\n",
      "\n"
     ]
    }
   ],
   "source": [
    "df = spark.createDataFrame(data, columns)\n",
    "df.show()"
   ]
  },
  {
   "cell_type": "code",
   "execution_count": 6,
   "metadata": {},
   "outputs": [
    {
     "name": "stdout",
     "output_type": "stream",
     "text": [
      "+---------+---+-------------+\n",
      "|     Name|Age|         City|\n",
      "+---------+---+-------------+\n",
      "|Catherine| 29|  Los Angeles|\n",
      "|    Alice| 34|     New York|\n",
      "|   Daniel| 35|     New York|\n",
      "|      Eva| 45|  Los Angeles|\n",
      "|      Bob| 45|San Francisco|\n",
      "+---------+---+-------------+\n",
      "\n"
     ]
    }
   ],
   "source": [
    "df_sorted_by_age = df.sort('Age')\n",
    "df_sorted_by_age.show()"
   ]
  },
  {
   "cell_type": "code",
   "execution_count": 7,
   "metadata": {},
   "outputs": [
    {
     "name": "stdout",
     "output_type": "stream",
     "text": [
      "+---------+---+-------------+\n",
      "|     Name|Age|         City|\n",
      "+---------+---+-------------+\n",
      "|Catherine| 29|  Los Angeles|\n",
      "|    Alice| 34|     New York|\n",
      "|   Daniel| 35|     New York|\n",
      "|      Bob| 45|San Francisco|\n",
      "|      Eva| 45|  Los Angeles|\n",
      "+---------+---+-------------+\n",
      "\n"
     ]
    }
   ],
   "source": [
    "df_sorted_by_age_city = df.sort('Age', 'city')\n",
    "df_sorted_by_age.show()"
   ]
  },
  {
   "cell_type": "code",
   "execution_count": 8,
   "metadata": {},
   "outputs": [
    {
     "name": "stdout",
     "output_type": "stream",
     "text": [
      "+---------+---+-------------+\n",
      "|     Name|Age|         City|\n",
      "+---------+---+-------------+\n",
      "|      Eva| 45|  Los Angeles|\n",
      "|      Bob| 45|San Francisco|\n",
      "|   Daniel| 35|     New York|\n",
      "|    Alice| 34|     New York|\n",
      "|Catherine| 29|  Los Angeles|\n",
      "+---------+---+-------------+\n",
      "\n"
     ]
    }
   ],
   "source": [
    "df_sorted_by_age_city = df.sort(F.desc('Age'))\n",
    "df_sorted_by_age_city.show()"
   ]
  },
  {
   "cell_type": "code",
   "execution_count": 9,
   "metadata": {},
   "outputs": [],
   "source": [
    "df.write.csv(\"daily_activities\\\\pyspark_coding_challenge30\\\\src\\\\output\", header = True)"
   ]
  }
 ],
 "metadata": {
  "kernelspec": {
   "display_name": "venv",
   "language": "python",
   "name": "python3"
  },
  "language_info": {
   "codemirror_mode": {
    "name": "ipython",
    "version": 3
   },
   "file_extension": ".py",
   "mimetype": "text/x-python",
   "name": "python",
   "nbconvert_exporter": "python",
   "pygments_lexer": "ipython3",
   "version": "3.6.8"
  }
 },
 "nbformat": 4,
 "nbformat_minor": 2
}
