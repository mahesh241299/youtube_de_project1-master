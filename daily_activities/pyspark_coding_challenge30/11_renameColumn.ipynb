{
 "cells": [
  {
   "cell_type": "code",
   "execution_count": 2,
   "metadata": {},
   "outputs": [
    {
     "name": "stderr",
     "output_type": "stream",
     "text": [
      "c:\\Users\\kumav\\Desktop\\Spark_Project\\youtube_de_project1-master\\data_Phoenix_migration\\venv\\lib\\site-packages\\pyspark\\context.py:238: FutureWarning: Python 3.6 support is deprecated in Spark 3.2.\n",
      "  FutureWarning\n"
     ]
    }
   ],
   "source": [
    "from pyspark.sql import SparkSession\n",
    "\n",
    "spark = SparkSession.builder.appName('Renaming column').getOrCreate()"
   ]
  },
  {
   "cell_type": "code",
   "execution_count": 3,
   "metadata": {},
   "outputs": [
    {
     "name": "stdout",
     "output_type": "stream",
     "text": [
      "+---------+----+\n",
      "|     Name| Age|\n",
      "+---------+----+\n",
      "|    Alice|  30|\n",
      "|      Bob|null|\n",
      "|Catherine|  25|\n",
      "|     null|  35|\n",
      "|      Eve|null|\n",
      "+---------+----+\n",
      "\n"
     ]
    }
   ],
   "source": [
    "data = [(\"Alice\", 30), \n",
    " (\"Bob\", None), \n",
    " (\"Catherine\", 25), \n",
    " (None, 35), \n",
    " (\"Eve\", None)]\n",
    "\n",
    "columns = [\"Name\", \"Age\"]\n",
    "\n",
    "df = spark.createDataFrame(data, columns)\n",
    "df.show()"
   ]
  },
  {
   "cell_type": "code",
   "execution_count": 4,
   "metadata": {},
   "outputs": [
    {
     "name": "stdout",
     "output_type": "stream",
     "text": [
      "+---------+-----+\n",
      "|     Name|Years|\n",
      "+---------+-----+\n",
      "|    Alice|   30|\n",
      "|      Bob| null|\n",
      "|Catherine|   25|\n",
      "|     null|   35|\n",
      "|      Eve| null|\n",
      "+---------+-----+\n",
      "\n"
     ]
    }
   ],
   "source": [
    "result = df.withColumnRenamed('Age', 'Years')\n",
    "result.show()"
   ]
  },
  {
   "cell_type": "code",
   "execution_count": null,
   "metadata": {},
   "outputs": [
    {
     "name": "stdout",
     "output_type": "stream",
     "text": [
      "+---------+-----------+\n",
      "|full_name|Year_of_age|\n",
      "+---------+-----------+\n",
      "|    Alice|         30|\n",
      "|      Bob|       null|\n",
      "|Catherine|         25|\n",
      "|     null|         35|\n",
      "|      Eve|       null|\n",
      "+---------+-----------+\n",
      "\n"
     ]
    }
   ],
   "source": [
    "resul1 = result.selectExpr('Name as full_name', \"years as Year_of_age\")\n",
    "resul1.show()"
   ]
  },
  {
   "cell_type": "code",
   "execution_count": 9,
   "metadata": {},
   "outputs": [
    {
     "name": "stdout",
     "output_type": "stream",
     "text": [
      "+---------+----+\n",
      "| fullName|aged|\n",
      "+---------+----+\n",
      "|    Alice|  30|\n",
      "|      Bob|null|\n",
      "|Catherine|  25|\n",
      "|     null|  35|\n",
      "|      Eve|null|\n",
      "+---------+----+\n",
      "\n"
     ]
    }
   ],
   "source": [
    "resul2 = resul1.toDF(\"fullName\", \"aged\")\n",
    "resul2.show()"
   ]
  },
  {
   "cell_type": "code",
   "execution_count": null,
   "metadata": {},
   "outputs": [],
   "source": [
    "# withColumnRenamed\n",
    "# selectExpr\n",
    "# toDF\n",
    "# alias"
   ]
  }
 ],
 "metadata": {
  "kernelspec": {
   "display_name": "venv",
   "language": "python",
   "name": "python3"
  },
  "language_info": {
   "codemirror_mode": {
    "name": "ipython",
    "version": 3
   },
   "file_extension": ".py",
   "mimetype": "text/x-python",
   "name": "python",
   "nbconvert_exporter": "python",
   "pygments_lexer": "ipython3",
   "version": "3.6.8"
  }
 },
 "nbformat": 4,
 "nbformat_minor": 2
}
