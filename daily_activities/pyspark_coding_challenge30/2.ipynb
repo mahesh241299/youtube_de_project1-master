{
 "cells": [
  {
   "cell_type": "markdown",
   "metadata": {},
   "source": [
    "Calculate the average salary and count of employees for each department."
   ]
  },
  {
   "cell_type": "code",
   "execution_count": 1,
   "metadata": {},
   "outputs": [],
   "source": [
    "from pyspark.sql import SparkSession\n",
    "from pyspark.sql import functions as f\n",
    "from pyspark.sql.functions import col\n"
   ]
  },
  {
   "cell_type": "code",
   "execution_count": 2,
   "metadata": {},
   "outputs": [
    {
     "name": "stderr",
     "output_type": "stream",
     "text": [
      "c:\\Users\\kumav\\Desktop\\Spark_Project\\youtube_de_project1-master\\data_Phoenix_migration\\venv\\lib\\site-packages\\pyspark\\context.py:238: FutureWarning: Python 3.6 support is deprecated in Spark 3.2.\n",
      "  FutureWarning\n"
     ]
    }
   ],
   "source": [
    "spark = SparkSession.builder \\\n",
    "    .appName(\"2nd day spark challenge\")\\\n",
    "    .getOrCreate()"
   ]
  },
  {
   "cell_type": "code",
   "execution_count": 3,
   "metadata": {},
   "outputs": [
    {
     "name": "stdout",
     "output_type": "stream",
     "text": [
      "+----------+------+--------+\n",
      "|Department|salary|emp_name|\n",
      "+----------+------+--------+\n",
      "|     Sales|  5000|    John|\n",
      "|     Sales|  6000|     Doe|\n",
      "|        HR|  7000|    Jane|\n",
      "|        HR|  8000|   Alice|\n",
      "|        IT|  4500|     Bob|\n",
      "|        IT|  5500| Charlie|\n",
      "+----------+------+--------+\n",
      "\n"
     ]
    }
   ],
   "source": [
    "data = [\n",
    " (\"Sales\", 5000, \"John\"),\n",
    " (\"Sales\", 6000, \"Doe\"),\n",
    " (\"HR\", 7000, \"Jane\"),\n",
    " (\"HR\", 8000, \"Alice\"),\n",
    " (\"IT\", 4500, \"Bob\"),\n",
    " (\"IT\", 5500, \"Charlie\"),\n",
    "]\n",
    "\n",
    "columns = ['Department', 'salary', 'emp_name']\n",
    "\n",
    "df = spark.createDataFrame(data, schema=columns)\n",
    "df.show()"
   ]
  },
  {
   "cell_type": "code",
   "execution_count": 4,
   "metadata": {},
   "outputs": [
    {
     "name": "stdout",
     "output_type": "stream",
     "text": [
      "+----------+--------------+------------------+\n",
      "|Department|Average salary|count of employees|\n",
      "+----------+--------------+------------------+\n",
      "|     Sales|        5500.0|                 2|\n",
      "|        HR|        7500.0|                 2|\n",
      "|        IT|        5000.0|                 2|\n",
      "+----------+--------------+------------------+\n",
      "\n"
     ]
    }
   ],
   "source": [
    "result_df = df.groupBy(col(\"Department\")).agg(\n",
    "            f.avg(col(\"salary\")).alias(\"Average salary\"),\n",
    "            f.count(col(\"emp_name\")).alias(\"count of employees\"))\n",
    "\n",
    "result_df.show()"
   ]
  },
  {
   "cell_type": "code",
   "execution_count": 1,
   "metadata": {},
   "outputs": [
    {
     "name": "stdout",
     "output_type": "stream",
     "text": [
      "[9, 7, 6, 4, 1]\n"
     ]
    }
   ],
   "source": [
    "def reverse_list(lst):\n",
    "    # Your code goes here\n",
    "    start = 0\n",
    "    end = len(lst) - 1\n",
    "    while start < end:\n",
    "        lst[start], lst[end] = lst[end], lst[start]\n",
    "        start += 1\n",
    "        end -= 1\n",
    "    return lst \n",
    "ab = [1,4,6,7,9]\n",
    "\n",
    "print(reverse_list(ab))"
   ]
  }
 ],
 "metadata": {
  "kernelspec": {
   "display_name": "venv",
   "language": "python",
   "name": "python3"
  },
  "language_info": {
   "codemirror_mode": {
    "name": "ipython",
    "version": 3
   },
   "file_extension": ".py",
   "mimetype": "text/x-python",
   "name": "python",
   "nbconvert_exporter": "python",
   "pygments_lexer": "ipython3",
   "version": "3.6.8"
  }
 },
 "nbformat": 4,
 "nbformat_minor": 2
}
