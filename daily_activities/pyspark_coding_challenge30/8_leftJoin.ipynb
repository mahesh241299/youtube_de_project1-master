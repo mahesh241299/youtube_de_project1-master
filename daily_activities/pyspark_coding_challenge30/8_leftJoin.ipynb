{
 "cells": [
  {
   "cell_type": "code",
   "execution_count": 1,
   "metadata": {},
   "outputs": [
    {
     "name": "stderr",
     "output_type": "stream",
     "text": [
      "c:\\Users\\kumav\\Desktop\\Spark_Project\\youtube_de_project1-master\\data_Phoenix_migration\\venv\\lib\\site-packages\\pyspark\\context.py:238: FutureWarning: Python 3.6 support is deprecated in Spark 3.2.\n",
      "  FutureWarning\n"
     ]
    }
   ],
   "source": [
    "from pyspark.sql import SparkSession\n",
    "\n",
    "spark = SparkSession.builder.appName(\"7 day Practice\").getOrCreate()"
   ]
  },
  {
   "cell_type": "code",
   "execution_count": 2,
   "metadata": {},
   "outputs": [
    {
     "name": "stdout",
     "output_type": "stream",
     "text": [
      "+-----+-----+-----------+\n",
      "|empId| name|  dept_name|\n",
      "+-----+-----+-----------+\n",
      "|    1|Alice|         HR|\n",
      "|    2|  bob|Engineering|\n",
      "|    3|Carol|  Marketing|\n",
      "|    4| Dave|         HR|\n",
      "+-----+-----+-----------+\n",
      "\n",
      "+------+-----------+\n",
      "|deptID|   deptName|\n",
      "+------+-----------+\n",
      "|   101|         HR|\n",
      "|   102|Engineering|\n",
      "|   103|  Marketing|\n",
      "|   105|      Sales|\n",
      "+------+-----------+\n",
      "\n"
     ]
    }
   ],
   "source": [
    "data2 = [\n",
    "    (1, 'Alice', 'HR'),\n",
    "    (2, 'bob', 'Engineering'),\n",
    "    (3, 'Carol', 'Marketing'),\n",
    "    (4, 'Dave', 'HR')\n",
    "]\n",
    "column2 = ['empId', 'name', 'dept_name']\n",
    "employee_df = spark.createDataFrame(data2, column2)\n",
    "employee_df.show()\n",
    "\n",
    "data1 = [\n",
    "    (101, 'HR'),\n",
    "    (102, 'Engineering'),\n",
    "    (103, 'Marketing'),\n",
    "    (105, 'Sales')\n",
    "]\n",
    "column1 = ['deptID', 'deptName']\n",
    "\n",
    "department_df = spark.createDataFrame(data1, column1)\n",
    "department_df.show()"
   ]
  },
  {
   "cell_type": "code",
   "execution_count": 4,
   "metadata": {},
   "outputs": [
    {
     "name": "stdout",
     "output_type": "stream",
     "text": [
      "+-----+-----+-----------+------+-----------+\n",
      "|empId| name|  dept_name|deptID|   deptName|\n",
      "+-----+-----+-----------+------+-----------+\n",
      "|    4| Dave|         HR|   101|         HR|\n",
      "|    1|Alice|         HR|   101|         HR|\n",
      "|    2|  bob|Engineering|   102|Engineering|\n",
      "|    3|Carol|  Marketing|   103|  Marketing|\n",
      "| null| null|       null|   105|      Sales|\n",
      "+-----+-----+-----------+------+-----------+\n",
      "\n"
     ]
    }
   ],
   "source": [
    "result_df = employee_df.join(department_df, employee_df['dept_name'] == department_df['deptName'], 'right')\n",
    "result_df.show()"
   ]
  }
 ],
 "metadata": {
  "kernelspec": {
   "display_name": "venv",
   "language": "python",
   "name": "python3"
  },
  "language_info": {
   "codemirror_mode": {
    "name": "ipython",
    "version": 3
   },
   "file_extension": ".py",
   "mimetype": "text/x-python",
   "name": "python",
   "nbconvert_exporter": "python",
   "pygments_lexer": "ipython3",
   "version": "3.6.8"
  }
 },
 "nbformat": 4,
 "nbformat_minor": 2
}
