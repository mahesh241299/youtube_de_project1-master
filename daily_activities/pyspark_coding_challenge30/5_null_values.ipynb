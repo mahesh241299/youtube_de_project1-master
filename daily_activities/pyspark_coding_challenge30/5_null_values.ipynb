{
 "cells": [
  {
   "cell_type": "code",
   "execution_count": null,
   "metadata": {},
   "outputs": [
    {
     "name": "stderr",
     "output_type": "stream",
     "text": [
      "c:\\Users\\kumav\\Desktop\\Spark_Project\\youtube_de_project1-master\\data_Phoenix_migration\\venv\\lib\\site-packages\\pyspark\\context.py:238: FutureWarning: Python 3.6 support is deprecated in Spark 3.2.\n",
      "  FutureWarning\n"
     ]
    }
   ],
   "source": [
    "\n",
    "from pyspark.sql import SparkSession\n",
    "\n",
    "spark = SparkSession.builder.appName(\"5 day practice\").getOrCreate()\n",
    "\n",
    "data = [(\"Alice\", 30), \n",
    " (\"Bob\", None), \n",
    " (\"Catherine\", 25), \n",
    " (None, 35), \n",
    " (\"Eve\", None)]\n",
    "\n",
    "columns = [\"Name\", \"Age\"]"
   ]
  },
  {
   "cell_type": "code",
   "execution_count": 2,
   "metadata": {},
   "outputs": [
    {
     "name": "stdout",
     "output_type": "stream",
     "text": [
      "+---------+----+\n",
      "|     Name| Age|\n",
      "+---------+----+\n",
      "|    Alice|  30|\n",
      "|      Bob|null|\n",
      "|Catherine|  25|\n",
      "|     null|  35|\n",
      "|      Eve|null|\n",
      "+---------+----+\n",
      "\n"
     ]
    }
   ],
   "source": [
    "df = spark.createDataFrame(data, columns)\n",
    "df.show()"
   ]
  },
  {
   "cell_type": "code",
   "execution_count": 3,
   "metadata": {},
   "outputs": [
    {
     "name": "stdout",
     "output_type": "stream",
     "text": [
      "+---------+---+\n",
      "|     Name|Age|\n",
      "+---------+---+\n",
      "|    Alice| 30|\n",
      "|Catherine| 25|\n",
      "|     null| 35|\n",
      "+---------+---+\n",
      "\n"
     ]
    }
   ],
   "source": [
    "df_dropNull = df.dropna(subset=[\"Age\"])\n",
    "df_dropNull.show()"
   ]
  },
  {
   "cell_type": "code",
   "execution_count": 6,
   "metadata": {},
   "outputs": [
    {
     "name": "stdout",
     "output_type": "stream",
     "text": [
      "+---------+---+\n",
      "|     Name|Age|\n",
      "+---------+---+\n",
      "|    Alice| 30|\n",
      "|      Bob|  0|\n",
      "|Catherine| 25|\n",
      "|     null| 35|\n",
      "|      Eve|  0|\n",
      "+---------+---+\n",
      "\n"
     ]
    }
   ],
   "source": [
    "df_fillNull = df.fillna({\"Age\": 0.000})\n",
    "df_fillNull.show()"
   ]
  },
  {
   "cell_type": "code",
   "execution_count": 9,
   "metadata": {},
   "outputs": [
    {
     "name": "stdout",
     "output_type": "stream",
     "text": [
      "+---------+---+\n",
      "|     Name|Age|\n",
      "+---------+---+\n",
      "|    Alice| 30|\n",
      "|      Bob|100|\n",
      "|Catherine| 25|\n",
      "|     null| 35|\n",
      "|      Eve|100|\n",
      "+---------+---+\n",
      "\n"
     ]
    }
   ],
   "source": [
    "df_replacing = df.na.fill(100, subset=[\"Age\"])\n",
    "df_replacing.show()"
   ]
  },
  {
   "cell_type": "code",
   "execution_count": 10,
   "metadata": {},
   "outputs": [
    {
     "name": "stdout",
     "output_type": "stream",
     "text": [
      "+---------+---+\n",
      "|     Name|Age|\n",
      "+---------+---+\n",
      "|    Alice| 30|\n",
      "|Catherine| 25|\n",
      "|     null| 35|\n",
      "+---------+---+\n",
      "\n"
     ]
    }
   ],
   "source": [
    "df_notNull = df.filter(df[\"Age\"].isNotNull())\n",
    "df_notNull.show()"
   ]
  }
 ],
 "metadata": {
  "kernelspec": {
   "display_name": "venv",
   "language": "python",
   "name": "python3"
  },
  "language_info": {
   "codemirror_mode": {
    "name": "ipython",
    "version": 3
   },
   "file_extension": ".py",
   "mimetype": "text/x-python",
   "name": "python",
   "nbconvert_exporter": "python",
   "pygments_lexer": "ipython3",
   "version": "3.6.8"
  }
 },
 "nbformat": 4,
 "nbformat_minor": 2
}
