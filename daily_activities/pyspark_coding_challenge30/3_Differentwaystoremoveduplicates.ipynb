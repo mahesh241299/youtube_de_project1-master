{
 "cells": [
  {
   "cell_type": "code",
   "execution_count": 1,
   "metadata": {},
   "outputs": [],
   "source": [
    "from pyspark.sql import SparkSession\n",
    "from pyspark.sql import functions as f\n",
    "from pyspark.sql.functions import col"
   ]
  },
  {
   "cell_type": "code",
   "execution_count": 2,
   "metadata": {},
   "outputs": [
    {
     "name": "stderr",
     "output_type": "stream",
     "text": [
      "c:\\Users\\kumav\\Desktop\\Spark_Project\\youtube_de_project1-master\\data_Phoenix_migration\\venv\\lib\\site-packages\\pyspark\\context.py:238: FutureWarning: Python 3.6 support is deprecated in Spark 3.2.\n",
      "  FutureWarning\n"
     ]
    }
   ],
   "source": [
    "spark = SparkSession.builder \\\n",
    "    .appName(\"3rd day spark challenge\")\\\n",
    "    .getOrCreate()"
   ]
  },
  {
   "cell_type": "code",
   "execution_count": 5,
   "metadata": {},
   "outputs": [
    {
     "name": "stdout",
     "output_type": "stream",
     "text": [
      "+--------------+--------------+----------------+---------+--------+------+------+\n",
      "|transaction_id|          city|transaction_date|card_type|exp_type|gender|amount|\n",
      "+--------------+--------------+----------------+---------+--------+------+------+\n",
      "|             1|         Delhi|       29-Oct-14|     Gold|   Bills|     F| 82475|\n",
      "|             2|Greater Mumbai|       22-Aug-14| Platinum|   Bills|     F| 32555|\n",
      "|             3|     Bengaluru|       27-Aug-14|   Silver|   Bills|     F|101738|\n",
      "|             4|Greater Mumbai|       12-Apr-14|Signature|   Bills|     F|123424|\n",
      "|             5|     Bengaluru|        5-May-15|     Gold|   Bills|     F|171574|\n",
      "|             6|         Delhi|        8-Sep-14|   Silver|   Bills|     F|100036|\n",
      "|             7|         Delhi|       24-Feb-15|     Gold|   Bills|     F|143250|\n",
      "|             8|Greater Mumbai|       26-Jun-14| Platinum|   Bills|     F|150980|\n",
      "|             9|         Delhi|       28-Mar-14|   Silver|   Bills|     F|192247|\n",
      "|            10|         Delhi|        1-Sep-14| Platinum|   Bills|     F| 67932|\n",
      "|            11|         Delhi|       22-Jun-14| Platinum|   Bills|     F|280061|\n",
      "|            12|Greater Mumbai|        7-Dec-13|Signature|   Bills|     F|278036|\n",
      "|            13|Greater Mumbai|        7-Aug-14|     Gold|   Bills|     F| 19226|\n",
      "|            14|         Delhi|       27-Apr-14|Signature|   Bills|     F|254359|\n",
      "|            15|Greater Mumbai|       15-Aug-14|Signature|   Bills|     F|302834|\n",
      "|            16|Greater Mumbai|       28-Nov-14| Platinum|   Bills|     F|647116|\n",
      "|            17|Greater Mumbai|       14-Jun-14|Signature|   Bills|     F|421878|\n",
      "|            18|Greater Mumbai|       30-Mar-15|     Gold|   Bills|     F|986379|\n",
      "|            19|Greater Mumbai|       15-Mar-14| Platinum|   Bills|     F|213047|\n",
      "|            20|Greater Mumbai|        9-Nov-13| Platinum|   Bills|     F|735566|\n",
      "+--------------+--------------+----------------+---------+--------+------+------+\n",
      "only showing top 20 rows\n",
      "\n"
     ]
    }
   ],
   "source": [
    "\n",
    "file_path = \"C:\\\\Users\\\\kumav\\\\Desktop\\\\cv Latest\\\\credit_card_transaction.csv\"\n",
    "\n",
    "df = spark.read.option('header', 'true')\\\n",
    "          .option('inferSchema', 'true')\\\n",
    "          .csv(file_path)\n",
    "df.show()"
   ]
  },
  {
   "cell_type": "code",
   "execution_count": null,
   "metadata": {},
   "outputs": [],
   "source": []
  }
 ],
 "metadata": {
  "kernelspec": {
   "display_name": "venv",
   "language": "python",
   "name": "python3"
  },
  "language_info": {
   "codemirror_mode": {
    "name": "ipython",
    "version": 3
   },
   "file_extension": ".py",
   "mimetype": "text/x-python",
   "name": "python",
   "nbconvert_exporter": "python",
   "pygments_lexer": "ipython3",
   "version": "3.6.8"
  }
 },
 "nbformat": 4,
 "nbformat_minor": 2
}
