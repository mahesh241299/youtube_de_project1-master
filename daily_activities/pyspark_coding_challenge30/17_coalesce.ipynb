{
 "cells": [
  {
   "cell_type": "code",
   "execution_count": 1,
   "metadata": {},
   "outputs": [
    {
     "name": "stderr",
     "output_type": "stream",
     "text": [
      "c:\\Users\\kumav\\Desktop\\Spark_Project\\youtube_de_project1-master\\data_Phoenix_migration\\venv\\lib\\site-packages\\pyspark\\context.py:238: FutureWarning: Python 3.6 support is deprecated in Spark 3.2.\n",
      "  FutureWarning\n"
     ]
    },
    {
     "data": {
      "text/html": [
       "\n",
       "            <div>\n",
       "                <p><b>SparkSession - in-memory</b></p>\n",
       "                \n",
       "        <div>\n",
       "            <p><b>SparkContext</b></p>\n",
       "\n",
       "            <p><a href=\"http://Mahesh:4041\">Spark UI</a></p>\n",
       "\n",
       "            <dl>\n",
       "              <dt>Version</dt>\n",
       "                <dd><code>v3.3.2</code></dd>\n",
       "              <dt>Master</dt>\n",
       "                <dd><code>local[*]</code></dd>\n",
       "              <dt>AppName</dt>\n",
       "                <dd><code>Coalesce</code></dd>\n",
       "            </dl>\n",
       "        </div>\n",
       "        \n",
       "            </div>\n",
       "        "
      ],
      "text/plain": [
       "<pyspark.sql.session.SparkSession at 0x6b4ed30>"
      ]
     },
     "execution_count": 1,
     "metadata": {},
     "output_type": "execute_result"
    }
   ],
   "source": [
    "from pyspark.sql import SparkSession\n",
    "\n",
    "spark = SparkSession.builder.appName(\"Coalesce\").getOrCreate()\n",
    "spark"
   ]
  },
  {
   "cell_type": "code",
   "execution_count": 2,
   "metadata": {},
   "outputs": [
    {
     "name": "stdout",
     "output_type": "stream",
     "text": [
      "+----------+------+--------+\n",
      "|Department|salary|emp_name|\n",
      "+----------+------+--------+\n",
      "|     Sales|  5000|    John|\n",
      "|     Sales|  6000|     Doe|\n",
      "|        HR|  7000|    Jane|\n",
      "|        HR|  8000|   Alice|\n",
      "|        IT|  4500|     Bob|\n",
      "|        IT|  5500| Charlie|\n",
      "+----------+------+--------+\n",
      "\n"
     ]
    }
   ],
   "source": [
    "data = [\n",
    " (\"Sales\", 5000, \"John\"),\n",
    " (\"Sales\", 6000, \"Doe\"),\n",
    " (\"HR\", 7000, \"Jane\"),\n",
    " (\"HR\", 8000, \"Alice\"),\n",
    " (\"IT\", 4500, \"Bob\"),\n",
    " (\"IT\", 5500, \"Charlie\"),\n",
    "]\n",
    "\n",
    "columns = ['Department', 'salary', 'emp_name']\n",
    "\n",
    "df = spark.createDataFrame(data, schema=columns)\n",
    "df.show()"
   ]
  },
  {
   "cell_type": "code",
   "execution_count": 3,
   "metadata": {},
   "outputs": [
    {
     "name": "stdout",
     "output_type": "stream",
     "text": [
      "Initial Number of partitions: 12\n"
     ]
    }
   ],
   "source": [
    "print(\"Initial Number of partitions:\", df.rdd.getNumPartitions())"
   ]
  },
  {
   "cell_type": "code",
   "execution_count": 4,
   "metadata": {},
   "outputs": [
    {
     "name": "stdout",
     "output_type": "stream",
     "text": [
      "Initial Number of partitions: 4\n"
     ]
    }
   ],
   "source": [
    "coalesce1 = df.coalesce(4)\n",
    "print(\"Initial Number of partitions:\", coalesce1.rdd.getNumPartitions())"
   ]
  },
  {
   "cell_type": "code",
   "execution_count": 9,
   "metadata": {},
   "outputs": [
    {
     "name": "stdout",
     "output_type": "stream",
     "text": [
      "Initial Number of partitions: 34\n"
     ]
    }
   ],
   "source": [
    "reparti = df.repartition(34)\n",
    "print(\"Initial Number of partitions:\", reparti.rdd.getNumPartitions())"
   ]
  },
  {
   "cell_type": "code",
   "execution_count": 10,
   "metadata": {},
   "outputs": [
    {
     "name": "stdout",
     "output_type": "stream",
     "text": [
      "+-----------+----------------+------+\n",
      "|Customer_id|Transaction_date|amount|\n",
      "+-----------+----------------+------+\n",
      "|          1|      2024-01-01|   200|\n",
      "|          1|      2024-01-02|   150|\n",
      "|          2|      2024-01-01|   300|\n",
      "|          3|      2024-01-01|   100|\n",
      "|          1|      2024-01-03|   250|\n",
      "|          3|      2024-01-02|   200|\n",
      "|          2|      2024-01-02|   100|\n",
      "|          2|      2024-01-03|   200|\n",
      "+-----------+----------------+------+\n",
      "\n"
     ]
    }
   ],
   "source": [
    "data2 = [\n",
    "(1, \"2024-01-01\", 200),\n",
    "(1, \"2024-01-02\", 150),\n",
    "(2, \"2024-01-01\", 300),\n",
    "(3, \"2024-01-01\", 100),\n",
    "(1, \"2024-01-03\", 250),\n",
    "(3, \"2024-01-02\", 200),\n",
    "(2, \"2024-01-02\", 100),\n",
    "(2, \"2024-01-03\", 200)\n",
    "]\n",
    "column2 = [ \"Customer_id\", \"Transaction_date\", \"amount\"]\n",
    "\n",
    "df1 = spark.createDataFrame(data2, column2)\n",
    "df1.show()"
   ]
  },
  {
   "cell_type": "code",
   "execution_count": 16,
   "metadata": {},
   "outputs": [
    {
     "name": "stdout",
     "output_type": "stream",
     "text": [
      "+-----------+-----------+----------+---------------+\n",
      "|Customer_id|TotalAmount|Avg_amount|Num_Transaction|\n",
      "+-----------+-----------+----------+---------------+\n",
      "|          1|        600|     200.0|              3|\n",
      "|          2|        600|     200.0|              3|\n",
      "|          3|        300|     150.0|              2|\n",
      "+-----------+-----------+----------+---------------+\n",
      "\n"
     ]
    }
   ],
   "source": [
    "from pyspark.sql.functions import sum, avg, count, col\n",
    "\n",
    "aggregateed_df = df1.groupBy(\"Customer_id\").agg(\n",
    "    sum(\"amount\").alias(\"TotalAmount\"),\n",
    "    avg(\"amount\").alias(\"Avg_amount\"),\n",
    "    count(\"amount\").alias(\"Num_Transaction\")\n",
    ")\n",
    "aggregateed_df.show()"
   ]
  },
  {
   "cell_type": "code",
   "execution_count": 17,
   "metadata": {},
   "outputs": [
    {
     "name": "stdout",
     "output_type": "stream",
     "text": [
      "+-----------+-----------+----------+---------------+\n",
      "|Customer_id|TotalAmount|Avg_amount|Num_Transaction|\n",
      "+-----------+-----------+----------+---------------+\n",
      "|          3|        300|     150.0|              2|\n",
      "+-----------+-----------+----------+---------------+\n",
      "\n"
     ]
    }
   ],
   "source": [
    "filtered_df = aggregateed_df.filter(col(\"Num_Transaction\") < 3)\n",
    "filtered_df.show()"
   ]
  },
  {
   "cell_type": "code",
   "execution_count": null,
   "metadata": {},
   "outputs": [],
   "source": []
  },
  {
   "cell_type": "code",
   "execution_count": 26,
   "metadata": {},
   "outputs": [
    {
     "name": "stdout",
     "output_type": "stream",
     "text": [
      "+-----------+-----------+----------+---------------+\n",
      "|Customer_id|TotalAmount|Avg_amount|Num_Transaction|\n",
      "+-----------+-----------+----------+---------------+\n",
      "|          1|        600|     200.0|              3|\n",
      "|          2|        600|     200.0|              3|\n",
      "|          3|        300|     150.0|              2|\n",
      "+-----------+-----------+----------+---------------+\n",
      "\n"
     ]
    },
    {
     "name": "stderr",
     "output_type": "stream",
     "text": [
      "----------------------------------------\n",
      "Exception happened during processing of request from ('127.0.0.1', 54246)\n",
      "Traceback (most recent call last):\n",
      "  File \"C:\\Users\\kumav\\AppData\\Local\\Programs\\Python\\Python36-32\\lib\\socketserver.py\", line 320, in _handle_request_noblock\n",
      "    self.process_request(request, client_address)\n",
      "  File \"C:\\Users\\kumav\\AppData\\Local\\Programs\\Python\\Python36-32\\lib\\socketserver.py\", line 351, in process_request\n",
      "    self.finish_request(request, client_address)\n",
      "  File \"C:\\Users\\kumav\\AppData\\Local\\Programs\\Python\\Python36-32\\lib\\socketserver.py\", line 364, in finish_request\n",
      "    self.RequestHandlerClass(request, client_address, self)\n",
      "  File \"C:\\Users\\kumav\\AppData\\Local\\Programs\\Python\\Python36-32\\lib\\socketserver.py\", line 724, in __init__\n",
      "    self.handle()\n",
      "  File \"c:\\Users\\kumav\\Desktop\\Spark_Project\\youtube_de_project1-master\\data_Phoenix_migration\\venv\\lib\\site-packages\\pyspark\\accumulators.py\", line 262, in handle\n",
      "    poll(accum_updates)\n",
      "  File \"c:\\Users\\kumav\\Desktop\\Spark_Project\\youtube_de_project1-master\\data_Phoenix_migration\\venv\\lib\\site-packages\\pyspark\\accumulators.py\", line 235, in poll\n",
      "    if func():\n",
      "  File \"c:\\Users\\kumav\\Desktop\\Spark_Project\\youtube_de_project1-master\\data_Phoenix_migration\\venv\\lib\\site-packages\\pyspark\\accumulators.py\", line 239, in accum_updates\n",
      "    num_updates = read_int(self.rfile)\n",
      "  File \"c:\\Users\\kumav\\Desktop\\Spark_Project\\youtube_de_project1-master\\data_Phoenix_migration\\venv\\lib\\site-packages\\pyspark\\serializers.py\", line 562, in read_int\n",
      "    length = stream.read(4)\n",
      "  File \"C:\\Users\\kumav\\AppData\\Local\\Programs\\Python\\Python36-32\\lib\\socket.py\", line 586, in readinto\n",
      "    return self._sock.recv_into(b)\n",
      "ConnectionResetError: [WinError 10054] An existing connection was forcibly closed by the remote host\n",
      "----------------------------------------\n"
     ]
    }
   ],
   "source": [
    "# # Create a global temporary view\n",
    "# aggregateed_df.createGlobalTempView(\"Emp\")\n",
    "\n",
    "# Query using the global_temp database\n",
    "result = spark.sql(\"SELECT * FROM global_temp.Emp\")\n",
    "\n",
    "# Show results\n",
    "result.show()\n"
   ]
  },
  {
   "cell_type": "code",
   "execution_count": null,
   "metadata": {},
   "outputs": [],
   "source": []
  }
 ],
 "metadata": {
  "kernelspec": {
   "display_name": "venv",
   "language": "python",
   "name": "python3"
  },
  "language_info": {
   "codemirror_mode": {
    "name": "ipython",
    "version": 3
   },
   "file_extension": ".py",
   "mimetype": "text/x-python",
   "name": "python",
   "nbconvert_exporter": "python",
   "pygments_lexer": "ipython3",
   "version": "3.6.8"
  }
 },
 "nbformat": 4,
 "nbformat_minor": 2
}
